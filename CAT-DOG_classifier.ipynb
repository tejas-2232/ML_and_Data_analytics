{
 "cells": [
  {
   "cell_type": "markdown",
   "metadata": {},
   "source": [
    "# DOGS vs CATS classifier"
   ]
  },
  {
   "cell_type": "markdown",
   "metadata": {},
   "source": [
    "### dataset is not prepared"
   ]
  },
  {
   "cell_type": "code",
   "execution_count": 7,
   "metadata": {},
   "outputs": [],
   "source": [
    "# import cv2\n",
    "import numpy as np\n",
    "import os\n",
    "from random import shuffle\n",
    "# from tqdm import tqdm\n",
    "import tensorflow as tf\n",
    "import matplotlib.pyplot as plt\n",
    "#pip3 install tflearn\n",
    "# import tflearn\n",
    "# from tflearn.layers.conv import conv_2d,max_pool2d\n",
    "# from tflearn.layers.core import input_data, dropout, fully_connected\n",
    "# from tflearn.layers.estimator import regression\n"
   ]
  },
  {
   "cell_type": "code",
   "execution_count": 22,
   "metadata": {},
   "outputs": [],
   "source": [
    "TRAIN_dir= \"train\"\n",
    "TEST_dir= \"test\"\n",
    "img_size=50\n",
    "LR=1e-3\n",
    "Model_name=\"DOG CAT CNN\"\n"
   ]
  },
  {
   "cell_type": "code",
   "execution_count": 23,
   "metadata": {},
   "outputs": [],
   "source": [
    "#Encoding dependent variable\n",
    "def createLabel(image_name):\n",
    "    word_label=image_name.split('.')[-3]\n",
    "    if word_label== 'cat':\n",
    "        return np.array([1,0])\n",
    "    elif word_label== 'dog':\n",
    "        return np.array([0,1])\n",
    "    \n",
    "    "
   ]
  },
  {
   "cell_type": "code",
   "execution_count": 24,
   "metadata": {},
   "outputs": [],
   "source": [
    "# resize image to 50x50 and convert it to GRAYSCALE image\n",
    "def create_train_data():\n",
    "    training_data=[]\n",
    "    for img in tqdm(os.listdir(TRAIN_dir)):\n",
    "        path=os.path.join(TRAIN_dir,img)\n",
    "        img_data=cv2.imread(path,cv2.IMREAD_GRAYSCALE)\n",
    "        img_data=cv2.resize(img_data,(img_size,img_size))\n",
    "        training_data.append([np.array(img_data),create_label(image) ])\n",
    "    shuffle(training_data)\n",
    "    np.save(\"train_data.npy\",training_data)\n",
    "    return training_data\n",
    "    "
   ]
  },
  {
   "cell_type": "code",
   "execution_count": 26,
   "metadata": {},
   "outputs": [],
   "source": [
    "def create_test_data():\n",
    "    testing_data=[]\n",
    "    for img in tqdm(os.listdir(TEST_dir)):\n",
    "        path=os.path.join(TEST_dir,img)\n",
    "        img_num=img.split('.')[0]\n",
    "        img_data=cv2.imread(path,cv2.IMREAD_GRAYSCALE)\n",
    "        img_data=cv2.resize(img_data,(img_size,img_size))\n",
    "        testing_data.append([np.array(img_data),img_num ])\n",
    "    \n",
    "    shuffle(testing_data)\n",
    "    np.save(\"test_data.npy\",testing_data)\n",
    "    return testing_data\n"
   ]
  },
  {
   "cell_type": "code",
   "execution_count": null,
   "metadata": {},
   "outputs": [],
   "source": [
    "#if dataset is not created\n",
    "train_data=create_train_data()\n",
    "test_data= create_test_data()\n"
   ]
  },
  {
   "cell_type": "code",
   "execution_count": null,
   "metadata": {},
   "outputs": [],
   "source": []
  }
 ],
 "metadata": {
  "kernelspec": {
   "display_name": "Python 3",
   "language": "python",
   "name": "python3"
  },
  "language_info": {
   "codemirror_mode": {
    "name": "ipython",
    "version": 3
   },
   "file_extension": ".py",
   "mimetype": "text/x-python",
   "name": "python",
   "nbconvert_exporter": "python",
   "pygments_lexer": "ipython3",
   "version": "3.5.2"
  }
 },
 "nbformat": 4,
 "nbformat_minor": 2
}
