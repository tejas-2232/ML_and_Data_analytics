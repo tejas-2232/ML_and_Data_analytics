{
 "cells": [
  {
   "cell_type": "markdown",
   "metadata": {
    "_cell_guid": "79c7e3d0-c299-4dcb-8224-4455121ee9b0",
    "_uuid": "d629ff2d2480ee46fbb7e2d37f6b5fab8052498a",
    "collapsed": true
   },
   "source": [
    "# Analysis Of Indian Statrtup Funding Data"
   ]
  },
  {
   "cell_type": "markdown",
   "metadata": {
    "_cell_guid": "1891101f-60cd-4048-a6b2-d9747704ebcf",
    "_uuid": "ad0af463e79e9b5a28ba10a5b8decfe548aa7723"
   },
   "source": [
    "<img src=\"http://jrhassociates.net/wp-content/uploads/2014/09/7.png\" title=\"Source : www.jrhassociates.net\">"
   ]
  },
  {
   "cell_type": "markdown",
   "metadata": {
    "_cell_guid": "1153c97c-3e6f-42bc-8305-7ac400d1ff00",
    "_uuid": "ff86d01939a0b2a6f50d6c90faa1084e405a6b3a"
   },
   "source": [
    "## Introduction  \n",
    "\n",
    "India has been very active in creating a healthy startup ecosystem, and the growth in the number of startups is increasing year on year. In fact, it is among the top five startup communities in the world.  \n",
    "Being so startup friendly the country has attracted numerous numbers of investors, both national and international. Therefore a large amount of money is poured into the startup ecosystem. Also due to government support, technology boon and rise of tier-2 and tier-3 cities has boosted the startup ecosystem.   \n",
    "Events like launch of Startup India initiative, US elections and the Indian banknote demonetization had a huge impact on the startup community. The dataset acquired via kaggle.com will help to analyze the startup trends from start of 2015 to mid 2017 and how to above events have affected the trend.  "
   ]
  },
  {
   "cell_type": "markdown",
   "metadata": {
    "_cell_guid": "75f8fb33-df9a-45e6-b6a4-234db82ced9a",
    "_uuid": "c55256fcd22e6a1a6f5dc246589cc348630c7517"
   },
   "source": [
    "## Scope of the Analysis"
   ]
  },
  {
   "cell_type": "markdown",
   "metadata": {
    "_cell_guid": "65f33141-c0a9-468d-97ee-6dd69058c23f",
    "_uuid": "02881e4b69230dec593cd908c7932de6e4c78412"
   },
   "source": [
    "The followings are the scope for this report\n",
    "*\tThe important investor of the Indian ecosystem.\n",
    "*\tThe amount of funds does startup generally gets in India.\n",
    "*\tThe roles of cities in funding.\n",
    "*\tVarious sectors or industries which are more favored by investors for funding.\n",
    "*\tHow funding has changed overtime.\n",
    "*\tHow events like US elections and Indian banknote demonetization affected the funding.\n",
    "\n"
   ]
  },
  {
   "cell_type": "code",
   "execution_count": 1,
   "metadata": {
    "_cell_guid": "3ae93d67-33b1-43dc-a4a0-be23160eaf1b",
    "_uuid": "41d6b7a0c625a742a0ae07205fe5054598ff05cb"
   },
   "outputs": [],
   "source": [
    "import numpy as np # linear algebra\n",
    "import pandas as pd # data processing, CSV file I/O (e.g. pd.read_csv)\n",
    "%matplotlib inline\n",
    "import matplotlib.pyplot as plt\n",
    "import seaborn as sns\n",
    "import dateutil\n",
    "import squarify\n",
    "import os"
   ]
  },
  {
   "cell_type": "code",
   "execution_count": 2,
   "metadata": {
    "_cell_guid": "cadec49f-cc54-449f-a028-e7320f9a5681",
    "_uuid": "be0614fe16465f5daf880fcaedef5e2170a85c7d"
   },
   "outputs": [],
   "source": [
    "fund_data = pd.read_csv('/home/tejas/Desktop/ISFDA/startup_funding.csv')"
   ]
  },
  {
   "cell_type": "markdown",
   "metadata": {
    "_cell_guid": "60bb0742-ab6b-4e03-bd55-57c3a59da04a",
    "_uuid": "a3ef1319c1c9963aee54f264f5d51fe36e77a046"
   },
   "source": [
    "#### Knowning more about the dataset"
   ]
  },
  {
   "cell_type": "code",
   "execution_count": 4,
   "metadata": {
    "_cell_guid": "83470f58-3b27-4f1b-b30e-625162d08a82",
    "_uuid": "0e25d954f959eed984974548bfcffe637cf8c7d4"
   },
   "outputs": [
    {
     "data": {
      "text/html": [
       "<div>\n",
       "<style scoped>\n",
       "    .dataframe tbody tr th:only-of-type {\n",
       "        vertical-align: middle;\n",
       "    }\n",
       "\n",
       "    .dataframe tbody tr th {\n",
       "        vertical-align: top;\n",
       "    }\n",
       "\n",
       "    .dataframe thead th {\n",
       "        text-align: right;\n",
       "    }\n",
       "</style>\n",
       "<table border=\"1\" class=\"dataframe\">\n",
       "  <thead>\n",
       "    <tr style=\"text-align: right;\">\n",
       "      <th></th>\n",
       "      <th>SNo</th>\n",
       "      <th>Date</th>\n",
       "      <th>StartupName</th>\n",
       "      <th>IndustryVertical</th>\n",
       "      <th>SubVertical</th>\n",
       "      <th>CityLocation</th>\n",
       "      <th>InvestorsName</th>\n",
       "      <th>InvestmentType</th>\n",
       "      <th>AmountInUSD</th>\n",
       "      <th>Remarks</th>\n",
       "    </tr>\n",
       "  </thead>\n",
       "  <tbody>\n",
       "    <tr>\n",
       "      <th>0</th>\n",
       "      <td>0</td>\n",
       "      <td>01/08/2017</td>\n",
       "      <td>TouchKin</td>\n",
       "      <td>Technology</td>\n",
       "      <td>Predictive Care Platform</td>\n",
       "      <td>Bangalore</td>\n",
       "      <td>Kae Capital</td>\n",
       "      <td>Private Equity</td>\n",
       "      <td>1,300,000</td>\n",
       "      <td>NaN</td>\n",
       "    </tr>\n",
       "    <tr>\n",
       "      <th>1</th>\n",
       "      <td>1</td>\n",
       "      <td>02/08/2017</td>\n",
       "      <td>Ethinos</td>\n",
       "      <td>Technology</td>\n",
       "      <td>Digital Marketing Agency</td>\n",
       "      <td>Mumbai</td>\n",
       "      <td>Triton Investment Advisors</td>\n",
       "      <td>Private Equity</td>\n",
       "      <td>NaN</td>\n",
       "      <td>NaN</td>\n",
       "    </tr>\n",
       "    <tr>\n",
       "      <th>2</th>\n",
       "      <td>2</td>\n",
       "      <td>02/08/2017</td>\n",
       "      <td>Leverage Edu</td>\n",
       "      <td>Consumer Internet</td>\n",
       "      <td>Online platform for Higher Education Services</td>\n",
       "      <td>New Delhi</td>\n",
       "      <td>Kashyap Deorah, Anand Sankeshwar, Deepak Jain,...</td>\n",
       "      <td>Seed Funding</td>\n",
       "      <td>NaN</td>\n",
       "      <td>NaN</td>\n",
       "    </tr>\n",
       "    <tr>\n",
       "      <th>3</th>\n",
       "      <td>3</td>\n",
       "      <td>02/08/2017</td>\n",
       "      <td>Zepo</td>\n",
       "      <td>Consumer Internet</td>\n",
       "      <td>DIY Ecommerce platform</td>\n",
       "      <td>Mumbai</td>\n",
       "      <td>Kunal Shah, LetsVenture, Anupam Mittal, Hetal ...</td>\n",
       "      <td>Seed Funding</td>\n",
       "      <td>500,000</td>\n",
       "      <td>NaN</td>\n",
       "    </tr>\n",
       "    <tr>\n",
       "      <th>4</th>\n",
       "      <td>4</td>\n",
       "      <td>02/08/2017</td>\n",
       "      <td>Click2Clinic</td>\n",
       "      <td>Consumer Internet</td>\n",
       "      <td>healthcare service aggregator</td>\n",
       "      <td>Hyderabad</td>\n",
       "      <td>Narottam Thudi, Shireesh Palle</td>\n",
       "      <td>Seed Funding</td>\n",
       "      <td>850,000</td>\n",
       "      <td>NaN</td>\n",
       "    </tr>\n",
       "  </tbody>\n",
       "</table>\n",
       "</div>"
      ],
      "text/plain": [
       "   SNo        Date   StartupName   IndustryVertical  \\\n",
       "0    0  01/08/2017      TouchKin         Technology   \n",
       "1    1  02/08/2017       Ethinos         Technology   \n",
       "2    2  02/08/2017  Leverage Edu  Consumer Internet   \n",
       "3    3  02/08/2017          Zepo  Consumer Internet   \n",
       "4    4  02/08/2017  Click2Clinic  Consumer Internet   \n",
       "\n",
       "                                     SubVertical CityLocation  \\\n",
       "0                       Predictive Care Platform    Bangalore   \n",
       "1                       Digital Marketing Agency       Mumbai   \n",
       "2  Online platform for Higher Education Services    New Delhi   \n",
       "3                         DIY Ecommerce platform       Mumbai   \n",
       "4                  healthcare service aggregator    Hyderabad   \n",
       "\n",
       "                                       InvestorsName  InvestmentType  \\\n",
       "0                                        Kae Capital  Private Equity   \n",
       "1                         Triton Investment Advisors  Private Equity   \n",
       "2  Kashyap Deorah, Anand Sankeshwar, Deepak Jain,...    Seed Funding   \n",
       "3  Kunal Shah, LetsVenture, Anupam Mittal, Hetal ...    Seed Funding   \n",
       "4                     Narottam Thudi, Shireesh Palle    Seed Funding   \n",
       "\n",
       "  AmountInUSD Remarks  \n",
       "0   1,300,000     NaN  \n",
       "1         NaN     NaN  \n",
       "2         NaN     NaN  \n",
       "3     500,000     NaN  \n",
       "4     850,000     NaN  "
      ]
     },
     "execution_count": 4,
     "metadata": {},
     "output_type": "execute_result"
    }
   ],
   "source": [
    "fund_data.head()"
   ]
  },
  {
   "cell_type": "markdown",
   "metadata": {
    "_cell_guid": "58dc90e9-e760-4021-9cfc-ce4d805d901b",
    "_uuid": "ae4b94d6b6cf2153cc59986a7d15fcec5062c68a"
   },
   "source": [
    "#### Shape and Info "
   ]
  },
  {
   "cell_type": "code",
   "execution_count": 5,
   "metadata": {
    "_cell_guid": "dea35d32-4a78-47e6-959b-b2b7aac5bb73",
    "_uuid": "b41d8bb603aa40342a1ce3240242a61248ff45ed"
   },
   "outputs": [
    {
     "data": {
      "text/plain": [
       "(2372, 10)"
      ]
     },
     "execution_count": 5,
     "metadata": {},
     "output_type": "execute_result"
    }
   ],
   "source": [
    "fund_data.shape"
   ]
  },
  {
   "cell_type": "code",
   "execution_count": 6,
   "metadata": {
    "_cell_guid": "e9d8604c-5100-463f-b305-1a8dc1470587",
    "_uuid": "fa122ad4f2e475ebe02fa637f04d25cf70b96ee1"
   },
   "outputs": [
    {
     "name": "stdout",
     "output_type": "stream",
     "text": [
      "<class 'pandas.core.frame.DataFrame'>\n",
      "RangeIndex: 2372 entries, 0 to 2371\n",
      "Data columns (total 10 columns):\n",
      "SNo                 2372 non-null int64\n",
      "Date                2372 non-null object\n",
      "StartupName         2372 non-null object\n",
      "IndustryVertical    2201 non-null object\n",
      "SubVertical         1436 non-null object\n",
      "CityLocation        2193 non-null object\n",
      "InvestorsName       2364 non-null object\n",
      "InvestmentType      2371 non-null object\n",
      "AmountInUSD         1525 non-null object\n",
      "Remarks             419 non-null object\n",
      "dtypes: int64(1), object(9)\n",
      "memory usage: 185.4+ KB\n"
     ]
    }
   ],
   "source": [
    "fund_data.info()"
   ]
  },
  {
   "cell_type": "markdown",
   "metadata": {
    "_cell_guid": "99dd9101-bb47-49b7-846b-015bebdc67c1",
    "_uuid": "29ab7f2dff0a84e319315d2898bd948a7676af55"
   },
   "source": [
    "#### Columns of the table"
   ]
  },
  {
   "cell_type": "code",
   "execution_count": 7,
   "metadata": {
    "_cell_guid": "cc31216f-e998-4265-b3ae-bb5fad1cae75",
    "_uuid": "e1e8f193f4513253d6c8fe6d2e32b1e77d0c5e7c"
   },
   "outputs": [
    {
     "data": {
      "text/plain": [
       "Index(['SNo', 'Date', 'StartupName', 'IndustryVertical', 'SubVertical',\n",
       "       'CityLocation', 'InvestorsName', 'InvestmentType', 'AmountInUSD',\n",
       "       'Remarks'],\n",
       "      dtype='object')"
      ]
     },
     "execution_count": 7,
     "metadata": {},
     "output_type": "execute_result"
    }
   ],
   "source": [
    "fund_data.columns "
   ]
  },
  {
   "cell_type": "markdown",
   "metadata": {
    "_cell_guid": "daa371d1-5758-4439-8f8b-d9ee97b1e1c0",
    "_uuid": "c5e1438205804b35802befcd5c4531de86b61cbb"
   },
   "source": [
    "#### Identifiying Null values and percentage of null values"
   ]
  },
  {
   "cell_type": "code",
   "execution_count": 8,
   "metadata": {
    "_cell_guid": "e0698916-70a9-4bd6-8702-714a288a2a9f",
    "_uuid": "f0dc1284333f25070e6816b5caa262f5e04e0ba5"
   },
   "outputs": [
    {
     "data": {
      "text/plain": [
       "Remarks             1953\n",
       "SubVertical          936\n",
       "AmountInUSD          847\n",
       "CityLocation         179\n",
       "IndustryVertical     171\n",
       "InvestorsName          8\n",
       "InvestmentType         1\n",
       "StartupName            0\n",
       "Date                   0\n",
       "SNo                    0\n",
       "dtype: int64"
      ]
     },
     "execution_count": 8,
     "metadata": {},
     "output_type": "execute_result"
    }
   ],
   "source": [
    "fund_data.isnull().sum().sort_values(ascending =False)"
   ]
  },
  {
   "cell_type": "markdown",
   "metadata": {
    "_cell_guid": "a8d5cb4a-8793-4dfe-8759-fe1d8f057d0e",
    "_uuid": "8a791d0b4aac0f8bb045bd09336db2bb7f0768ee"
   },
   "source": [
    "Now Percentage"
   ]
  },
  {
   "cell_type": "code",
   "execution_count": 9,
   "metadata": {
    "_cell_guid": "4d71b570-d839-46b1-ad1e-8d1a801cd6ef",
    "_uuid": "fa219eda58d85042388344202be116d014a86af8"
   },
   "outputs": [
    {
     "name": "stdout",
     "output_type": "stream",
     "text": [
      "Percentage of missing data\n"
     ]
    },
    {
     "data": {
      "text/plain": [
       "AmountInUSD         35.708263\n",
       "CityLocation         7.546374\n",
       "Date                 0.000000\n",
       "IndustryVertical     7.209106\n",
       "InvestmentType       0.042159\n",
       "InvestorsName        0.337268\n",
       "Remarks             82.335582\n",
       "SNo                  0.000000\n",
       "StartupName          0.000000\n",
       "SubVertical         39.460371\n",
       "dtype: float64"
      ]
     },
     "execution_count": 9,
     "metadata": {},
     "output_type": "execute_result"
    }
   ],
   "source": [
    "missing = fund_data.isnull().sum().sort_values(ascending=False)\n",
    "percent = (missing/fund_data.isnull().count())*100\n",
    "print(\"Percentage of missing data\")\n",
    "percent"
   ]
  },
  {
   "cell_type": "markdown",
   "metadata": {
    "_cell_guid": "4b9bbc8e-336d-47fb-9245-4b88cbade1e4",
    "_uuid": "2958675fc0aff1c4cab95f65be268d135c23e6d5"
   },
   "source": [
    "We can see that Remarks has the highest amount of null values therefore the columns has to be dropped."
   ]
  },
  {
   "cell_type": "code",
   "execution_count": 10,
   "metadata": {
    "_cell_guid": "bcf90aab-4497-4fd8-bf68-86500b0635d7",
    "_uuid": "484896ef4db97366521e4bdfbaddba8df93c8dae"
   },
   "outputs": [],
   "source": [
    "fund_data.drop(['Remarks'],axis=1,inplace=True)"
   ]
  },
  {
   "cell_type": "markdown",
   "metadata": {
    "_cell_guid": "62a2b82a-37bd-443a-9424-46f073cd5eb9",
    "_uuid": "521796375dd4c32a1749490727fa144e13956e89"
   },
   "source": [
    "#### Fixing Dates and other data"
   ]
  },
  {
   "cell_type": "code",
   "execution_count": 11,
   "metadata": {
    "_cell_guid": "b59dcdf2-87d7-469f-b230-31828ee0b69b",
    "_uuid": "cf461b9d583b526f086d9ae3bddc103ce54fe7e4"
   },
   "outputs": [],
   "source": [
    "fund_data['Date']=fund_data['Date'].replace({\"12/05.2015\":\"12/05/2015\"})\n",
    "fund_data['Date']=fund_data['Date'].replace({\"13/04.2015\":\"13/04/2015\"})\n",
    "fund_data['Date']=fund_data['Date'].replace({\"15/01.2015\":\"15/01/2015\"})\n",
    "fund_data['Date']=fund_data['Date'].replace({\"22/01//2015\":\"22/01/2015\"})\n",
    "fund_data['StartupName'] = fund_data['StartupName'].replace({\"Flipkart.com\":\"Flipkart\"})\n",
    "fund_data['IndustryVertical']=fund_data['IndustryVertical'].replace({\"ECommerce\":\"eCommerce\"})\n",
    "fund_data['IndustryVertical']=fund_data['IndustryVertical'].replace({\"ecommerce\":\"eCommerce\"})\n",
    "fund_data['IndustryVertical']=fund_data['IndustryVertical'].replace({\"Ecommerce\":\"eCommerce\"})\n",
    "fund_data['InvestmentType']=fund_data['InvestmentType'].replace({\"Crowd funding\":\"Crowd Funding\"})\n",
    "fund_data['InvestmentType']=fund_data['InvestmentType'].replace({\"SeedFunding\":\"Seed Funding\"})\n",
    "fund_data['InvestmentType']=fund_data['InvestmentType'].replace({\"PrivateEquity\":\"Private Equity\"})\n",
    "fund_data['StartupName']=fund_data['StartupName'].replace({\"practo\":\"Practo\"})\n",
    "fund_data['StartupName']=fund_data['StartupName'].replace({\"couponmachine.in\":\"Couponmachine\"})\n",
    "fund_data['StartupName']=fund_data['StartupName'].replace({\"Olacabs\":\"Ola Cabs\"})\n",
    "fund_data['StartupName']=fund_data['StartupName'].replace({\"Ola\":\"Ola Cabs\"})"
   ]
  },
  {
   "cell_type": "markdown",
   "metadata": {
    "_cell_guid": "712bcd06-682d-4297-b558-55df790f4e33",
    "_uuid": "4dd3ed4fdc740fcff9e9f58718d8399db7196403"
   },
   "source": [
    "#### Replace in ',' to '' in AmountInUSD"
   ]
  },
  {
   "cell_type": "code",
   "execution_count": 12,
   "metadata": {
    "_cell_guid": "88d21a6a-bc14-425b-a5da-e59649242d4a",
    "_uuid": "660e2bde46b48cc9a50328c683e86ff46cea82aa"
   },
   "outputs": [],
   "source": [
    "fund_data['AmountInUSD'] = fund_data['AmountInUSD'].apply(lambda x:float(str(x).replace(\",\",\"\")))"
   ]
  },
  {
   "cell_type": "markdown",
   "metadata": {
    "_cell_guid": "80109c01-3bfc-453b-91b0-97d2c931bf5f",
    "_uuid": "2f902be9ca28eb02db21f6e70b979c17ddfb1d04"
   },
   "source": [
    "### Some indepth insights on the amont of investements"
   ]
  },
  {
   "cell_type": "markdown",
   "metadata": {
    "_cell_guid": "5129fd78-03ff-4640-a1cc-d26441d0a812",
    "_uuid": "26616d39e4f4f074847fbbcefb82f78bdd187a8c"
   },
   "source": [
    "#### Minimum Investments"
   ]
  },
  {
   "cell_type": "code",
   "execution_count": 13,
   "metadata": {
    "_cell_guid": "de6a4a47-7449-4a04-a820-fac82456321b",
    "_uuid": "6aab7b6be96bec34c186faca38277cfae12fcb82"
   },
   "outputs": [
    {
     "name": "stdout",
     "output_type": "stream",
     "text": [
      "Minimum Investment\n"
     ]
    },
    {
     "data": {
      "text/plain": [
       "16000.0"
      ]
     },
     "execution_count": 13,
     "metadata": {},
     "output_type": "execute_result"
    }
   ],
   "source": [
    "print(\"Minimum Investment\")\n",
    "fund_data['AmountInUSD'].min()"
   ]
  },
  {
   "cell_type": "markdown",
   "metadata": {
    "_cell_guid": "f64d6c3b-6088-477e-911b-1b7207d3f472",
    "_uuid": "db352fbb4b4fb5f0edbd2e53c9fc127b433efa3b"
   },
   "source": [
    "Details of the minimum investment of $ 16000.0"
   ]
  },
  {
   "cell_type": "code",
   "execution_count": 14,
   "metadata": {
    "_cell_guid": "85c07df2-0ad3-4029-a487-c57cb2d1547c",
    "_uuid": "97f51fc66eefd7809f18a653e688b121fc39c0dc"
   },
   "outputs": [
    {
     "data": {
      "text/html": [
       "<div>\n",
       "<style scoped>\n",
       "    .dataframe tbody tr th:only-of-type {\n",
       "        vertical-align: middle;\n",
       "    }\n",
       "\n",
       "    .dataframe tbody tr th {\n",
       "        vertical-align: top;\n",
       "    }\n",
       "\n",
       "    .dataframe thead th {\n",
       "        text-align: right;\n",
       "    }\n",
       "</style>\n",
       "<table border=\"1\" class=\"dataframe\">\n",
       "  <thead>\n",
       "    <tr style=\"text-align: right;\">\n",
       "      <th></th>\n",
       "      <th>SNo</th>\n",
       "      <th>Date</th>\n",
       "      <th>StartupName</th>\n",
       "      <th>IndustryVertical</th>\n",
       "      <th>SubVertical</th>\n",
       "      <th>CityLocation</th>\n",
       "      <th>InvestorsName</th>\n",
       "      <th>InvestmentType</th>\n",
       "      <th>AmountInUSD</th>\n",
       "    </tr>\n",
       "  </thead>\n",
       "  <tbody>\n",
       "    <tr>\n",
       "      <th>2345</th>\n",
       "      <td>2345</td>\n",
       "      <td>19/01/2015</td>\n",
       "      <td>Hostel Dunia</td>\n",
       "      <td>NaN</td>\n",
       "      <td>NaN</td>\n",
       "      <td>NaN</td>\n",
       "      <td>Hyderabad Angels (at Startup Heroes event)</td>\n",
       "      <td>Seed Funding</td>\n",
       "      <td>16000.0</td>\n",
       "    </tr>\n",
       "    <tr>\n",
       "      <th>2346</th>\n",
       "      <td>2346</td>\n",
       "      <td>19/01/2015</td>\n",
       "      <td>Play your sport</td>\n",
       "      <td>NaN</td>\n",
       "      <td>NaN</td>\n",
       "      <td>NaN</td>\n",
       "      <td>Hyderabad Angels (at Startup Heroes event)</td>\n",
       "      <td>Seed Funding</td>\n",
       "      <td>16000.0</td>\n",
       "    </tr>\n",
       "    <tr>\n",
       "      <th>2347</th>\n",
       "      <td>2347</td>\n",
       "      <td>19/01/2015</td>\n",
       "      <td>Yo Grad</td>\n",
       "      <td>NaN</td>\n",
       "      <td>NaN</td>\n",
       "      <td>NaN</td>\n",
       "      <td>Hyderabad Angels (at Startup Heroes event)</td>\n",
       "      <td>Seed Funding</td>\n",
       "      <td>16000.0</td>\n",
       "    </tr>\n",
       "    <tr>\n",
       "      <th>2348</th>\n",
       "      <td>2348</td>\n",
       "      <td>19/01/2015</td>\n",
       "      <td>Enabli</td>\n",
       "      <td>NaN</td>\n",
       "      <td>NaN</td>\n",
       "      <td>NaN</td>\n",
       "      <td>Hyderabad Angels (at Startup Heroes event)</td>\n",
       "      <td>Seed Funding</td>\n",
       "      <td>16000.0</td>\n",
       "    </tr>\n",
       "    <tr>\n",
       "      <th>2349</th>\n",
       "      <td>2349</td>\n",
       "      <td>19/01/2015</td>\n",
       "      <td>CBS</td>\n",
       "      <td>NaN</td>\n",
       "      <td>NaN</td>\n",
       "      <td>NaN</td>\n",
       "      <td>Hyderabad Angels (at Startup Heroes event)</td>\n",
       "      <td>Seed Funding</td>\n",
       "      <td>16000.0</td>\n",
       "    </tr>\n",
       "  </tbody>\n",
       "</table>\n",
       "</div>"
      ],
      "text/plain": [
       "       SNo        Date      StartupName IndustryVertical SubVertical  \\\n",
       "2345  2345  19/01/2015     Hostel Dunia              NaN         NaN   \n",
       "2346  2346  19/01/2015  Play your sport              NaN         NaN   \n",
       "2347  2347  19/01/2015          Yo Grad              NaN         NaN   \n",
       "2348  2348  19/01/2015           Enabli              NaN         NaN   \n",
       "2349  2349  19/01/2015              CBS              NaN         NaN   \n",
       "\n",
       "     CityLocation                               InvestorsName InvestmentType  \\\n",
       "2345          NaN  Hyderabad Angels (at Startup Heroes event)   Seed Funding   \n",
       "2346          NaN  Hyderabad Angels (at Startup Heroes event)   Seed Funding   \n",
       "2347          NaN  Hyderabad Angels (at Startup Heroes event)   Seed Funding   \n",
       "2348          NaN  Hyderabad Angels (at Startup Heroes event)   Seed Funding   \n",
       "2349          NaN  Hyderabad Angels (at Startup Heroes event)   Seed Funding   \n",
       "\n",
       "      AmountInUSD  \n",
       "2345      16000.0  \n",
       "2346      16000.0  \n",
       "2347      16000.0  \n",
       "2348      16000.0  \n",
       "2349      16000.0  "
      ]
     },
     "execution_count": 14,
     "metadata": {},
     "output_type": "execute_result"
    }
   ],
   "source": [
    "fund_data[fund_data['AmountInUSD']==16000.0]"
   ]
  },
  {
   "cell_type": "markdown",
   "metadata": {
    "_cell_guid": "bbab8001-1221-4d1a-a6ff-98d376bfc59a",
    "_uuid": "fb263f0fc9b6a8f5c4a9ca833cc72b2c98211c6a"
   },
   "source": [
    "All the above startups were funded at Startup Heroes Event."
   ]
  },
  {
   "cell_type": "markdown",
   "metadata": {
    "_cell_guid": "100d9a07-e0b9-4bb1-a0c0-815daa80149c",
    "_uuid": "c78960daa6ef1b3cfa765e21239a6ee29c736e31"
   },
   "source": [
    "#### Maximum Investment"
   ]
  },
  {
   "cell_type": "code",
   "execution_count": 15,
   "metadata": {
    "_cell_guid": "3cf9f1d7-38ca-487d-8172-27d5635e5f43",
    "_uuid": "d478b308d80acc4cdc9d6ddf3d017b3a39eedb97"
   },
   "outputs": [
    {
     "name": "stdout",
     "output_type": "stream",
     "text": [
      "Maximum Investment\n"
     ]
    },
    {
     "data": {
      "text/plain": [
       "1400000000.0"
      ]
     },
     "execution_count": 15,
     "metadata": {},
     "output_type": "execute_result"
    }
   ],
   "source": [
    "print(\"Maximum Investment\")\n",
    "fund_data['AmountInUSD'].max()"
   ]
  },
  {
   "cell_type": "markdown",
   "metadata": {
    "_cell_guid": "3f8dc3de-cc60-4c57-8bd1-f91d4090cd3e",
    "_uuid": "a3104a261bbbd2a87d2375dc0d3bb7533e19392d"
   },
   "source": [
    "Details of the maximum investment of $ 1400000000.0"
   ]
  },
  {
   "cell_type": "code",
   "execution_count": 16,
   "metadata": {
    "_cell_guid": "d593d1ba-6956-4692-a205-e8cd0d4c6898",
    "_uuid": "43c1c50c24dfce7bb818648d4db4a731c011f993"
   },
   "outputs": [
    {
     "data": {
      "text/html": [
       "<div>\n",
       "<style scoped>\n",
       "    .dataframe tbody tr th:only-of-type {\n",
       "        vertical-align: middle;\n",
       "    }\n",
       "\n",
       "    .dataframe tbody tr th {\n",
       "        vertical-align: top;\n",
       "    }\n",
       "\n",
       "    .dataframe thead th {\n",
       "        text-align: right;\n",
       "    }\n",
       "</style>\n",
       "<table border=\"1\" class=\"dataframe\">\n",
       "  <thead>\n",
       "    <tr style=\"text-align: right;\">\n",
       "      <th></th>\n",
       "      <th>SNo</th>\n",
       "      <th>Date</th>\n",
       "      <th>StartupName</th>\n",
       "      <th>IndustryVertical</th>\n",
       "      <th>SubVertical</th>\n",
       "      <th>CityLocation</th>\n",
       "      <th>InvestorsName</th>\n",
       "      <th>InvestmentType</th>\n",
       "      <th>AmountInUSD</th>\n",
       "    </tr>\n",
       "  </thead>\n",
       "  <tbody>\n",
       "    <tr>\n",
       "      <th>158</th>\n",
       "      <td>158</td>\n",
       "      <td>18/05/2017</td>\n",
       "      <td>Paytm</td>\n",
       "      <td>eCommerce</td>\n",
       "      <td>Mobile Wallet &amp; ECommerce platform</td>\n",
       "      <td>Bangalore</td>\n",
       "      <td>SoftBank Group</td>\n",
       "      <td>Private Equity</td>\n",
       "      <td>1.400000e+09</td>\n",
       "    </tr>\n",
       "    <tr>\n",
       "      <th>294</th>\n",
       "      <td>294</td>\n",
       "      <td>21/03/2017</td>\n",
       "      <td>Flipkart</td>\n",
       "      <td>eCommerce</td>\n",
       "      <td>ECommerce Marketplace</td>\n",
       "      <td>Bangalore</td>\n",
       "      <td>Microsoft, eBay, Tencent Holdings</td>\n",
       "      <td>Private Equity</td>\n",
       "      <td>1.400000e+09</td>\n",
       "    </tr>\n",
       "  </tbody>\n",
       "</table>\n",
       "</div>"
      ],
      "text/plain": [
       "     SNo        Date StartupName IndustryVertical  \\\n",
       "158  158  18/05/2017       Paytm        eCommerce   \n",
       "294  294  21/03/2017    Flipkart        eCommerce   \n",
       "\n",
       "                            SubVertical CityLocation  \\\n",
       "158  Mobile Wallet & ECommerce platform    Bangalore   \n",
       "294               ECommerce Marketplace    Bangalore   \n",
       "\n",
       "                         InvestorsName  InvestmentType   AmountInUSD  \n",
       "158                     SoftBank Group  Private Equity  1.400000e+09  \n",
       "294  Microsoft, eBay, Tencent Holdings  Private Equity  1.400000e+09  "
      ]
     },
     "execution_count": 16,
     "metadata": {},
     "output_type": "execute_result"
    }
   ],
   "source": [
    "fund_data[fund_data.AmountInUSD == 1400000000.0]"
   ]
  },
  {
   "cell_type": "markdown",
   "metadata": {
    "_cell_guid": "f644fc3e-b0c9-4591-b9f5-00e57cbd2300",
    "_uuid": "6818dd144584f7862878914d9f709e8f08e77b71"
   },
   "source": [
    "So __Paytm__ and __Flipkart__ were the startups that had the maximum investments"
   ]
  },
  {
   "cell_type": "markdown",
   "metadata": {
    "_cell_guid": "067c7de6-28a3-4aeb-8503-ff43eb318347",
    "_uuid": "490beffe882c9c1a3948e25ea9e56a5e9cbcc164"
   },
   "source": [
    "Let's look how many times Flipkart and Paytm was funded."
   ]
  },
  {
   "cell_type": "code",
   "execution_count": 17,
   "metadata": {
    "_cell_guid": "b6b06a12-79a1-4bf7-a40d-f9141564f8c2",
    "_uuid": "56860e8fb9cf4c7f4c90d38d69ba8b338492063c"
   },
   "outputs": [
    {
     "data": {
      "text/html": [
       "<div>\n",
       "<style scoped>\n",
       "    .dataframe tbody tr th:only-of-type {\n",
       "        vertical-align: middle;\n",
       "    }\n",
       "\n",
       "    .dataframe tbody tr th {\n",
       "        vertical-align: top;\n",
       "    }\n",
       "\n",
       "    .dataframe thead th {\n",
       "        text-align: right;\n",
       "    }\n",
       "</style>\n",
       "<table border=\"1\" class=\"dataframe\">\n",
       "  <thead>\n",
       "    <tr style=\"text-align: right;\">\n",
       "      <th></th>\n",
       "      <th>SNo</th>\n",
       "      <th>Date</th>\n",
       "      <th>StartupName</th>\n",
       "      <th>IndustryVertical</th>\n",
       "      <th>SubVertical</th>\n",
       "      <th>CityLocation</th>\n",
       "      <th>InvestorsName</th>\n",
       "      <th>InvestmentType</th>\n",
       "      <th>AmountInUSD</th>\n",
       "    </tr>\n",
       "  </thead>\n",
       "  <tbody>\n",
       "    <tr>\n",
       "      <th>101</th>\n",
       "      <td>101</td>\n",
       "      <td>26/06/2017</td>\n",
       "      <td>Flipkart</td>\n",
       "      <td>eCommerce</td>\n",
       "      <td>Online marketplace</td>\n",
       "      <td>Bangalore</td>\n",
       "      <td>Naspers</td>\n",
       "      <td>Private Equity</td>\n",
       "      <td>7.100000e+07</td>\n",
       "    </tr>\n",
       "    <tr>\n",
       "      <th>294</th>\n",
       "      <td>294</td>\n",
       "      <td>21/03/2017</td>\n",
       "      <td>Flipkart</td>\n",
       "      <td>eCommerce</td>\n",
       "      <td>ECommerce Marketplace</td>\n",
       "      <td>Bangalore</td>\n",
       "      <td>Microsoft, eBay, Tencent Holdings</td>\n",
       "      <td>Private Equity</td>\n",
       "      <td>1.400000e+09</td>\n",
       "    </tr>\n",
       "    <tr>\n",
       "      <th>360</th>\n",
       "      <td>360</td>\n",
       "      <td>20/02/2017</td>\n",
       "      <td>Flipkart</td>\n",
       "      <td>eCommerce</td>\n",
       "      <td>Online Marketplace</td>\n",
       "      <td>Bangalore</td>\n",
       "      <td>Bennett, Coleman and Co. Ltd (BCCL)</td>\n",
       "      <td>Private Equity</td>\n",
       "      <td>3.870000e+07</td>\n",
       "    </tr>\n",
       "    <tr>\n",
       "      <th>1976</th>\n",
       "      <td>1976</td>\n",
       "      <td>28/7/2015</td>\n",
       "      <td>Flipkart</td>\n",
       "      <td>Online Marketplace</td>\n",
       "      <td>NaN</td>\n",
       "      <td>Bangalore</td>\n",
       "      <td>Steadview Capital and existing investors</td>\n",
       "      <td>Private Equity</td>\n",
       "      <td>7.000000e+08</td>\n",
       "    </tr>\n",
       "    <tr>\n",
       "      <th>2017</th>\n",
       "      <td>2017</td>\n",
       "      <td>04/06/2015</td>\n",
       "      <td>Flipkart</td>\n",
       "      <td>eCommerce platform</td>\n",
       "      <td>NaN</td>\n",
       "      <td>Bangalore</td>\n",
       "      <td>Morgan Stanley</td>\n",
       "      <td>Private Equity</td>\n",
       "      <td>5.000000e+07</td>\n",
       "    </tr>\n",
       "  </tbody>\n",
       "</table>\n",
       "</div>"
      ],
      "text/plain": [
       "       SNo        Date StartupName    IndustryVertical            SubVertical  \\\n",
       "101    101  26/06/2017    Flipkart           eCommerce     Online marketplace   \n",
       "294    294  21/03/2017    Flipkart           eCommerce  ECommerce Marketplace   \n",
       "360    360  20/02/2017    Flipkart           eCommerce     Online Marketplace   \n",
       "1976  1976   28/7/2015    Flipkart  Online Marketplace                    NaN   \n",
       "2017  2017  04/06/2015    Flipkart  eCommerce platform                    NaN   \n",
       "\n",
       "     CityLocation                             InvestorsName  InvestmentType  \\\n",
       "101     Bangalore                                   Naspers  Private Equity   \n",
       "294     Bangalore         Microsoft, eBay, Tencent Holdings  Private Equity   \n",
       "360     Bangalore       Bennett, Coleman and Co. Ltd (BCCL)  Private Equity   \n",
       "1976    Bangalore  Steadview Capital and existing investors  Private Equity   \n",
       "2017    Bangalore                            Morgan Stanley  Private Equity   \n",
       "\n",
       "       AmountInUSD  \n",
       "101   7.100000e+07  \n",
       "294   1.400000e+09  \n",
       "360   3.870000e+07  \n",
       "1976  7.000000e+08  \n",
       "2017  5.000000e+07  "
      ]
     },
     "execution_count": 17,
     "metadata": {},
     "output_type": "execute_result"
    }
   ],
   "source": [
    "fund_data[fund_data['StartupName'] == \"Flipkart\"]"
   ]
  },
  {
   "cell_type": "code",
   "execution_count": 18,
   "metadata": {
    "_cell_guid": "51d7a46d-d728-4412-8b05-88f713350fcb",
    "_uuid": "7a9eebed675ee335c955fddd5a25bb5ccea130ab"
   },
   "outputs": [
    {
     "data": {
      "text/html": [
       "<div>\n",
       "<style scoped>\n",
       "    .dataframe tbody tr th:only-of-type {\n",
       "        vertical-align: middle;\n",
       "    }\n",
       "\n",
       "    .dataframe tbody tr th {\n",
       "        vertical-align: top;\n",
       "    }\n",
       "\n",
       "    .dataframe thead th {\n",
       "        text-align: right;\n",
       "    }\n",
       "</style>\n",
       "<table border=\"1\" class=\"dataframe\">\n",
       "  <thead>\n",
       "    <tr style=\"text-align: right;\">\n",
       "      <th></th>\n",
       "      <th>SNo</th>\n",
       "      <th>Date</th>\n",
       "      <th>StartupName</th>\n",
       "      <th>IndustryVertical</th>\n",
       "      <th>SubVertical</th>\n",
       "      <th>CityLocation</th>\n",
       "      <th>InvestorsName</th>\n",
       "      <th>InvestmentType</th>\n",
       "      <th>AmountInUSD</th>\n",
       "    </tr>\n",
       "  </thead>\n",
       "  <tbody>\n",
       "    <tr>\n",
       "      <th>158</th>\n",
       "      <td>158</td>\n",
       "      <td>18/05/2017</td>\n",
       "      <td>Paytm</td>\n",
       "      <td>eCommerce</td>\n",
       "      <td>Mobile Wallet &amp; ECommerce platform</td>\n",
       "      <td>Bangalore</td>\n",
       "      <td>SoftBank Group</td>\n",
       "      <td>Private Equity</td>\n",
       "      <td>1.400000e+09</td>\n",
       "    </tr>\n",
       "    <tr>\n",
       "      <th>821</th>\n",
       "      <td>821</td>\n",
       "      <td>30/8/2016</td>\n",
       "      <td>Paytm</td>\n",
       "      <td>eCommerce</td>\n",
       "      <td>Mobile Wallet &amp; ECommerce platform</td>\n",
       "      <td>Bangalore</td>\n",
       "      <td>MediaTek Inc.</td>\n",
       "      <td>Private Equity</td>\n",
       "      <td>6.000000e+07</td>\n",
       "    </tr>\n",
       "    <tr>\n",
       "      <th>1787</th>\n",
       "      <td>1787</td>\n",
       "      <td>29/09/2015</td>\n",
       "      <td>Paytm</td>\n",
       "      <td>E-Commerce &amp; M-Commerce platform</td>\n",
       "      <td>NaN</td>\n",
       "      <td>New Delhi</td>\n",
       "      <td>Alibaba Group, Ant Financial</td>\n",
       "      <td>Private Equity</td>\n",
       "      <td>6.800000e+08</td>\n",
       "    </tr>\n",
       "    <tr>\n",
       "      <th>2218</th>\n",
       "      <td>2218</td>\n",
       "      <td>13/03/2015</td>\n",
       "      <td>Paytm</td>\n",
       "      <td>NaN</td>\n",
       "      <td>NaN</td>\n",
       "      <td>NaN</td>\n",
       "      <td>Ratan Tata</td>\n",
       "      <td>Private Equity</td>\n",
       "      <td>NaN</td>\n",
       "    </tr>\n",
       "    <tr>\n",
       "      <th>2276</th>\n",
       "      <td>2276</td>\n",
       "      <td>05/02/2015</td>\n",
       "      <td>Paytm</td>\n",
       "      <td>NaN</td>\n",
       "      <td>NaN</td>\n",
       "      <td>NaN</td>\n",
       "      <td>Ant Financial Services (Alipay)</td>\n",
       "      <td>Private Equity</td>\n",
       "      <td>NaN</td>\n",
       "    </tr>\n",
       "  </tbody>\n",
       "</table>\n",
       "</div>"
      ],
      "text/plain": [
       "       SNo        Date StartupName                  IndustryVertical  \\\n",
       "158    158  18/05/2017       Paytm                         eCommerce   \n",
       "821    821   30/8/2016       Paytm                         eCommerce   \n",
       "1787  1787  29/09/2015       Paytm  E-Commerce & M-Commerce platform   \n",
       "2218  2218  13/03/2015       Paytm                               NaN   \n",
       "2276  2276  05/02/2015       Paytm                               NaN   \n",
       "\n",
       "                             SubVertical CityLocation  \\\n",
       "158   Mobile Wallet & ECommerce platform    Bangalore   \n",
       "821   Mobile Wallet & ECommerce platform    Bangalore   \n",
       "1787                                 NaN    New Delhi   \n",
       "2218                                 NaN          NaN   \n",
       "2276                                 NaN          NaN   \n",
       "\n",
       "                        InvestorsName  InvestmentType   AmountInUSD  \n",
       "158                    SoftBank Group  Private Equity  1.400000e+09  \n",
       "821                     MediaTek Inc.  Private Equity  6.000000e+07  \n",
       "1787     Alibaba Group, Ant Financial  Private Equity  6.800000e+08  \n",
       "2218                       Ratan Tata  Private Equity           NaN  \n",
       "2276  Ant Financial Services (Alipay)  Private Equity           NaN  "
      ]
     },
     "execution_count": 18,
     "metadata": {},
     "output_type": "execute_result"
    }
   ],
   "source": [
    "fund_data[fund_data['StartupName'] == \"Paytm\"]"
   ]
  },
  {
   "cell_type": "markdown",
   "metadata": {
    "_cell_guid": "49625752-8c88-468e-b368-1294f9b68789",
    "_uuid": "bf569fb4b63f5409d58c370042a7f78f4b3285e7"
   },
   "source": [
    "#### Mean Investment"
   ]
  },
  {
   "cell_type": "code",
   "execution_count": 19,
   "metadata": {
    "_cell_guid": "74a5109e-a8c0-4ec1-bc92-d4b5b3318974",
    "_uuid": "d3ee89500b49e7e8f0286f33322c47b24e89faef"
   },
   "outputs": [
    {
     "data": {
      "text/plain": [
       "12031073.099016393"
      ]
     },
     "execution_count": 19,
     "metadata": {},
     "output_type": "execute_result"
    }
   ],
   "source": [
    "fund_data['AmountInUSD'].mean()"
   ]
  },
  {
   "cell_type": "markdown",
   "metadata": {
    "_cell_guid": "01ff6c03-b7ea-4e80-a25b-31b7d5f78e28",
    "_uuid": "5b4fe8e5654af9545f51d4e4122982b084087434"
   },
   "source": [
    "#### Total Investment From 1/1/2015 To 28/7/2017\n"
   ]
  },
  {
   "cell_type": "code",
   "execution_count": 20,
   "metadata": {
    "_cell_guid": "e927b862-10b7-43f8-bf2b-d66222b11e97",
    "_uuid": "2a9a03aae9811556197cf364c35ef2b1429142a5"
   },
   "outputs": [
    {
     "data": {
      "text/plain": [
       "18347386476.0"
      ]
     },
     "execution_count": 20,
     "metadata": {},
     "output_type": "execute_result"
    }
   ],
   "source": [
    "fund_data['AmountInUSD'].sum()"
   ]
  },
  {
   "cell_type": "markdown",
   "metadata": {
    "_cell_guid": "953e8d69-a886-4c30-8e1a-ad073d8d3fc3",
    "_uuid": "38bd362c46eda6089ed7f7a78314d0485cc2e736"
   },
   "source": [
    "#### Number of Investment per month"
   ]
  },
  {
   "cell_type": "code",
   "execution_count": 21,
   "metadata": {
    "_cell_guid": "a6283d8b-42d2-4cfe-96cb-cac959611078",
    "_uuid": "3d47d875f7e9a103ebfd529e7a7be57ef34fe8ca"
   },
   "outputs": [
    {
     "name": "stdout",
     "output_type": "stream",
     "text": [
      "Number of funding per month in decreasing order (Funding Wise)\n",
      "\n",
      " 201601    104\n",
      "201602    100\n",
      "201606     98\n",
      "201508     98\n",
      "201507     98\n",
      "201510     93\n",
      "201511     92\n",
      "201512     89\n",
      "201509     88\n",
      "201608     87\n",
      "201506     86\n",
      "201603     85\n",
      "201610     80\n",
      "201604     79\n",
      "201605     79\n",
      "201609     73\n",
      "201612     72\n",
      "201611     72\n",
      "201701     72\n",
      "201704     71\n",
      "201703     71\n",
      "201705     68\n",
      "201706     65\n",
      "201607     64\n",
      "201504     63\n",
      "201505     61\n",
      "201503     60\n",
      "201502     55\n",
      "201501     53\n",
      "201702     48\n",
      "201707     43\n",
      "201708      5\n",
      "Name: yearmonth, dtype: int64\n"
     ]
    }
   ],
   "source": [
    "fund_data[\"yearmonth\"] = (pd.to_datetime(fund_data['Date'],format='%d/%m/%Y').dt.year*100)+(pd.to_datetime(fund_data['Date'],format='%d/%m/%Y').dt.month)\n",
    "temp = fund_data['yearmonth'].value_counts().sort_values(ascending = False)\n",
    "print(\"Number of funding per month in decreasing order (Funding Wise)\\n\\n\",temp)\n",
    "year_month = fund_data['yearmonth'].value_counts()"
   ]
  },
  {
   "cell_type": "markdown",
   "metadata": {
    "_cell_guid": "4caf9792-ddfb-4f60-82c0-902fdebb8f05",
    "_uuid": "3258452c1055974911e05cf4debfa92b9eddc270"
   },
   "source": [
    "### Now plotting some graphs"
   ]
  },
  {
   "cell_type": "markdown",
   "metadata": {
    "_cell_guid": "b917ea54-d7ec-4edc-959e-621ade068ff2",
    "_uuid": "ed7a37a420f2d425e2d3f7bcbe706e10396e0304"
   },
   "source": [
    "####  Year-Month - Number of Funding Distribution"
   ]
  },
  {
   "cell_type": "code",
   "execution_count": 22,
   "metadata": {
    "_cell_guid": "2fd9b13b-deb0-4b4d-ad94-782993d70d1a",
    "_uuid": "98eaa56366f7ea2cbd72cd72293a11ca56cb5916"
   },
   "outputs": [
    {
     "data": {
      "image/png": "[encoded data removed]",
      "text/plain": [
       "<Figure size 1080x576 with 1 Axes>"
      ]
     },
     "metadata": {
      "needs_background": "light"
     },
     "output_type": "display_data"
    }
   ],
   "source": [
    "plt.figure(figsize=(15,8))\n",
    "sns.barplot(year_month.index, year_month.values, alpha=0.9)\n",
    "plt.xticks(rotation='vertical')\n",
    "plt.xlabel('Year-Month of transaction', fontsize=12)\n",
    "plt.ylabel('Number of fundings made', fontsize=12)\n",
    "plt.title(\"Year-Month - Number of Funding Distribution\", fontsize=16)\n",
    "plt.show()"
   ]
  },
  {
   "cell_type": "markdown",
   "metadata": {
    "_cell_guid": "ea04a5a6-86bc-4ab9-94c5-461a30dd9957",
    "_uuid": "679b911e1a8f1839401bc6e4929858fa2b5b276b"
   },
   "source": [
    "#### Conclusion from above :    \n",
    "* July and August of  2015 had the highest investment that year because of the __Digital India Campaign__  \n",
    "* January 2016 had the higest investment of 2016 and also in the dataset because of the __Startup India Initaitive__\n",
    "* As expected Demonitization lowered the investement per month from __Nov '16__ to __July '17__\n",
    "* __Interseting note : __ July '16 saw a decrease of investment and the lowest in the year , may be beacuse of the __Surgical strike__ that happed that month."
   ]
  },
  {
   "cell_type": "markdown",
   "metadata": {
    "_cell_guid": "e83d59b9-2644-40cf-b3b9-83594536c7ef",
    "_uuid": "8698f2072eefa1dc9c9abf20a61694c675a95ba0"
   },
   "source": [
    "#### Year-Month - Amount of Funding distribution"
   ]
  },
  {
   "cell_type": "code",
   "execution_count": 23,
   "metadata": {
    "_cell_guid": "08fb6b85-cfee-4fd3-9086-7d6217469ce4",
    "_uuid": "ce9bf3591553064d55d13cdf1996f3ed56950f63"
   },
   "outputs": [
    {
     "data": {
      "image/png": "[encoded data removed]",
      "text/plain": [
       "<Figure size 1080x576 with 1 Axes>"
      ]
     },
     "metadata": {
      "needs_background": "light"
     },
     "output_type": "display_data"
    }
   ],
   "source": [
    "plt.figure(figsize=(15,8))\n",
    "sns.barplot(fund_data['yearmonth'], fund_data['AmountInUSD'], alpha=0.9)\n",
    "plt.xticks(rotation='vertical')\n",
    "plt.xlabel('YearMonth', fontsize=12)\n",
    "plt.ylabel('Amonut Of Investments', fontsize=12)\n",
    "plt.title(\"YearMonth - Number of fundings distribution\", fontsize=16)\n",
    "plt.show()"
   ]
  },
  {
   "cell_type": "markdown",
   "metadata": {
    "_cell_guid": "1c6cfad6-fef0-4ef2-baa3-1ea32ca6b453",
    "_uuid": "bba3f43ad708b454fe386355e0bc9debb29e2729"
   },
   "source": [
    "#### Conclusion from the above :\n",
    "* March '17 and May '17 had the maximum investment because  __Flipkart__ and __Paytm__ were funded then."
   ]
  },
  {
   "cell_type": "markdown",
   "metadata": {
    "_cell_guid": "75582213-a524-4fd8-a0fa-cd190bd8a55a",
    "_uuid": "a2037575d4b0d0ca8d9aa88544d2469edd4bb698"
   },
   "source": [
    "## Basic analysis of startups"
   ]
  },
  {
   "cell_type": "markdown",
   "metadata": {
    "_cell_guid": "c334713b-a49e-4672-93b1-b24aeef801bf",
    "_uuid": "748679a1450fbb761f8a4868477154b846183813"
   },
   "source": [
    "#### Total number of startups"
   ]
  },
  {
   "cell_type": "code",
   "execution_count": 24,
   "metadata": {
    "_cell_guid": "8813df93-3d5f-4808-91e6-15c077034906",
    "_uuid": "b614ef75573aa3e1c60d14801a253b1f4205d276"
   },
   "outputs": [
    {
     "data": {
      "text/plain": [
       "2372"
      ]
     },
     "execution_count": 24,
     "metadata": {},
     "output_type": "execute_result"
    }
   ],
   "source": [
    "len(fund_data['StartupName'])"
   ]
  },
  {
   "cell_type": "markdown",
   "metadata": {
    "_cell_guid": "665f874c-4185-4267-b1bf-af447881210d",
    "_uuid": "4a4e30f9b30170e42631684056d64bc6e308fa25"
   },
   "source": [
    "#### Unique startups"
   ]
  },
  {
   "cell_type": "code",
   "execution_count": 25,
   "metadata": {
    "_cell_guid": "a37f3353-eb10-4cab-babd-9501c398de53",
    "_uuid": "918d7c04ef79351320d15e6a2af34ffffe812083"
   },
   "outputs": [
    {
     "data": {
      "text/plain": [
       "1997"
      ]
     },
     "execution_count": 25,
     "metadata": {},
     "output_type": "execute_result"
    }
   ],
   "source": [
    "len(fund_data['StartupName'].unique())"
   ]
  },
  {
   "cell_type": "markdown",
   "metadata": {
    "_cell_guid": "4fda872b-7b4a-4fe9-a504-d1f1ba6be429",
    "_uuid": "01fdb71640af905bdc08071ba6d8c9d82d5cb525"
   },
   "source": [
    "#### Startups that got funding more than 1 times"
   ]
  },
  {
   "cell_type": "code",
   "execution_count": 26,
   "metadata": {
    "_cell_guid": "35c147af-bbcd-4b4e-981f-1d08447aec4e",
    "_uuid": "8c00d02877a1b8bfd291b789eba72c4f08395313"
   },
   "outputs": [
    {
     "name": "stdout",
     "output_type": "stream",
     "text": [
      "Startups that got funding more than 1 times =  280\n"
     ]
    }
   ],
   "source": [
    "tot = (fund_data['StartupName'].value_counts()).values\n",
    "c=0\n",
    "for i in tot:\n",
    "    if i > 1:\n",
    "        c=c+1\n",
    "print(\"Startups that got funding more than 1 times = \",c)"
   ]
  },
  {
   "cell_type": "code",
   "execution_count": 27,
   "metadata": {
    "_cell_guid": "734a53db-f5d1-4d42-86f3-3fd4665f8c59",
    "_uuid": "db88b4bd1c0c416ac64ffeeb7843bac7115ccbc3"
   },
   "outputs": [
    {
     "name": "stdout",
     "output_type": "stream",
     "text": [
      "Ola Cabs         9\n",
      "Swiggy           7\n",
      "UrbanClap        6\n",
      "Jugnoo           5\n",
      "Flipkart         5\n",
      "Medinfi          5\n",
      "Paytm            5\n",
      "NoBroker         5\n",
      "Capital Float    4\n",
      "Tracxn           4\n",
      "Byju’s           4\n",
      "Wooplr           4\n",
      "HolaChef         4\n",
      "Moglix           4\n",
      "Simplilearn      4\n",
      "YepMe            4\n",
      "Niki.ai          4\n",
      "TinyStep         4\n",
      "Vyomo            4\n",
      "Voonik           4\n",
      "Name: StartupName, dtype: int64\n"
     ]
    }
   ],
   "source": [
    "fund_count  = fund_data['StartupName'].value_counts()\n",
    "fund_count = fund_count.head(20)\n",
    "print(fund_count)"
   ]
  },
  {
   "cell_type": "markdown",
   "metadata": {
    "_cell_guid": "a79f12b0-f336-4830-984a-ec479291451e",
    "_uuid": "bc0947e69e7bdbb5995be52025c4a911fdf46acb"
   },
   "source": [
    "#### Plot for top 20 companies that secured 4 or more than 4 fundings"
   ]
  },
  {
   "cell_type": "code",
   "execution_count": 28,
   "metadata": {
    "_cell_guid": "af3ec6d8-c3e6-422a-bfb8-90e850b015fc",
    "_uuid": "ace8d54ff89127d10f27266004f93f7207c8f344"
   },
   "outputs": [
    {
     "data": {
      "image/png": "[encoded data removed]",
      "text/plain": [
       "<Figure size 1080x576 with 1 Axes>"
      ]
     },
     "metadata": {
      "needs_background": "light"
     },
     "output_type": "display_data"
    }
   ],
   "source": [
    "plt.figure(figsize=(15,8))\n",
    "sns.barplot(fund_count.index, fund_count.values, alpha=0.9)\n",
    "plt.xticks(rotation='vertical')\n",
    "plt.xlabel('Startups', fontsize=12)\n",
    "plt.ylabel('Number of fundings made', fontsize=12)\n",
    "plt.title(\"Startups-Number of fundings distribution\", fontsize=16)\n",
    "plt.show()"
   ]
  },
  {
   "cell_type": "markdown",
   "metadata": {
    "_cell_guid": "d007a129-d473-421e-8bed-93d9908f67b6",
    "_uuid": "80065366280b7dd895ff8441ea6f89da7ec18301"
   },
   "source": [
    "#### Conclusion from above \n",
    "* Most of the companie sthat were funded 4 or more than 4 times were __Consumer Internet__ companies with some exceptions."
   ]
  },
  {
   "cell_type": "markdown",
   "metadata": {
    "_cell_guid": "5b11d07d-f7cd-412e-ac20-18976fe59d82",
    "_uuid": "7cdf046ed7efb7c3c21bd426cdd7e0fa6a8c0a00"
   },
   "source": [
    "## Industry Verticals"
   ]
  },
  {
   "cell_type": "markdown",
   "metadata": {
    "_cell_guid": "b51d8593-a9fb-4ba5-8aba-7a33679309fb",
    "_uuid": "f85e5a317620125b39977acb6f40230ebc672cf3"
   },
   "source": [
    "#### Unique Industry Verticals"
   ]
  },
  {
   "cell_type": "code",
   "execution_count": 29,
   "metadata": {
    "_cell_guid": "ffdde9fc-3c2f-4213-b94c-960a27e3896d",
    "_uuid": "641d5b34b8db47e56eff13070c0d8040f57c1772"
   },
   "outputs": [
    {
     "data": {
      "text/plain": [
       "741"
      ]
     },
     "execution_count": 29,
     "metadata": {},
     "output_type": "execute_result"
    }
   ],
   "source": [
    "len(fund_data['IndustryVertical'].unique())"
   ]
  },
  {
   "cell_type": "code",
   "execution_count": 30,
   "metadata": {
    "_cell_guid": "b81efd02-2241-468d-be63-22906e59a50b",
    "_uuid": "0a341c87800714794d978f7a31d3504b96f57e91"
   },
   "outputs": [
    {
     "name": "stdout",
     "output_type": "stream",
     "text": [
      "Consumer Internet                772\n",
      "Technology                       313\n",
      "eCommerce                        230\n",
      "Healthcare                        30\n",
      "Logistics                         24\n",
      "Education                         20\n",
      "Food & Beverage                   19\n",
      "Finance                            9\n",
      "Others                             6\n",
      "Online Education Platform          5\n",
      "Online Food Delivery               5\n",
      "Real Estate                        4\n",
      "FMCG                               3\n",
      "Hyperlocal Handyman Services       3\n",
      "Big Data & Analytics platform      3\n",
      "Logistics Tech                     3\n",
      "Food Delivery Platform             3\n",
      "Customer Engagement Platform       2\n",
      "Internet of Things platform        2\n",
      "Food & Beverages                   2\n",
      "Name: IndustryVertical, dtype: int64\n"
     ]
    }
   ],
   "source": [
    "IndustryVert = fund_data['IndustryVertical'].value_counts().head(20)\n",
    "print(IndustryVert)"
   ]
  },
  {
   "cell_type": "markdown",
   "metadata": {
    "_cell_guid": "c4a138b2-42b6-46d6-9868-2f0b2728f0aa",
    "_uuid": "19e06a68bcce70be5479685b1ffbb13ad8a63a67"
   },
   "source": [
    "#### Plot for Industry Vertical"
   ]
  },
  {
   "cell_type": "code",
   "execution_count": 31,
   "metadata": {
    "_cell_guid": "bd01a93c-cdb4-4e88-b544-826f3c4f1fbf",
    "_uuid": "6c37c066c428d67ad91e3044b42ed62907817a2b"
   },
   "outputs": [
    {
     "data": {
      "image/png": "[encoded data removed]",
      "text/plain": [
       "<Figure size 1080x576 with 1 Axes>"
      ]
     },
     "metadata": {
      "needs_background": "light"
     },
     "output_type": "display_data"
    }
   ],
   "source": [
    "plt.figure(figsize=(15,8))\n",
    "sns.barplot(IndustryVert.index, IndustryVert.values, alpha=0.9)\n",
    "plt.xticks(rotation='vertical')\n",
    "plt.xlabel('Industry Verticals', fontsize=12)\n",
    "plt.ylabel('Number of fundings made', fontsize=12)\n",
    "plt.title(\"Industry Verticals-Number of fundings distribution\", fontsize=16)\n",
    "plt.show()"
   ]
  },
  {
   "cell_type": "markdown",
   "metadata": {
    "_cell_guid": "0e7585c5-fc93-426a-ab93-8d09994a8863",
    "_uuid": "79c41bc46ff0549d9c74b5580b95650cef27f979"
   },
   "source": [
    "#### Conclusion from above\n",
    "* Consumer Internet startups are the most with 32.5 % in  total.\n",
    "* Technology with the second most of 13.2%\n",
    "* And Ecommerce with 9 %"
   ]
  },
  {
   "cell_type": "markdown",
   "metadata": {
    "_cell_guid": "433219d2-f25a-4528-bbcf-586c427b49a6",
    "_uuid": "f703bfbdf8b524a4d9437854aed981efcf4fbceb"
   },
   "source": [
    "## Subvertical"
   ]
  },
  {
   "cell_type": "markdown",
   "metadata": {
    "_cell_guid": "9c9329bd-e3e9-430e-bffd-184f3da78d92",
    "_uuid": "7bc928ffe1a407a9182a7ddc5c80c7a7377d4dbf"
   },
   "source": [
    "#### Unique Subverticals"
   ]
  },
  {
   "cell_type": "code",
   "execution_count": 32,
   "metadata": {
    "_cell_guid": "77e987a1-5b62-4388-a37b-964b51ec4719",
    "_uuid": "f725107a307f7c0d13a30f86591c201faf992b7a"
   },
   "outputs": [
    {
     "name": "stdout",
     "output_type": "stream",
     "text": [
      "Total number of subverticals :  1365\n"
     ]
    }
   ],
   "source": [
    "sub_vertical = fund_data['SubVertical']\n",
    "print(\"Total number of subverticals : \",len(sub_vertical.unique()))"
   ]
  },
  {
   "cell_type": "markdown",
   "metadata": {
    "_cell_guid": "981163d6-c42c-4d8f-8958-94c1ee6a33c8",
    "_uuid": "6553e98b911a792c3816e0133bf61768ba4c9793"
   },
   "source": [
    "#### Top 25 Subverticals"
   ]
  },
  {
   "cell_type": "code",
   "execution_count": 33,
   "metadata": {
    "_cell_guid": "bc5e2271-574d-4570-9c61-117139d4a8e5",
    "_uuid": "4a51b593e52bb2480131189ea3922b30882259c7"
   },
   "outputs": [
    {
     "name": "stdout",
     "output_type": "stream",
     "text": [
      "Online Pharmacy                              9\n",
      "Food Delivery Platform                       8\n",
      "Online lending platform                      5\n",
      "Online Learning Platform                     4\n",
      "Data Analytics platform                      3\n",
      "Online Payment Gateway                       3\n",
      "ECommerce Marketplace                        3\n",
      "Fitness Mobile App                           3\n",
      "QSR Chain                                    2\n",
      "Online marketplace                           2\n",
      "Cab Aggregation App                          2\n",
      "Food Ordering Mobile App                     2\n",
      "On-Demand Washing & Dry Cleaning Services    2\n",
      "Carpooling Mobile App                        2\n",
      "Online Gifting platform                      2\n",
      "Mobile Wallet & ECommerce platform           2\n",
      "Healthy Food Delivery platform               2\n",
      "Online Education Portal                      2\n",
      "Medical Supplies eTailer                     2\n",
      "Online Furniture Store                       2\n",
      "Online Women’s Fashion Marketplace           2\n",
      "Online Real Estate Portal                    2\n",
      "Health-Tech platform                         2\n",
      "Online Furniture Renting Platform            2\n",
      "Online Tax Filing Platform                   2\n",
      "Name: SubVertical, dtype: int64\n"
     ]
    }
   ],
   "source": [
    "sub_vertical=sub_vertical.value_counts().head(25)\n",
    "print(sub_vertical)"
   ]
  },
  {
   "cell_type": "markdown",
   "metadata": {
    "_cell_guid": "94e7aeb0-044b-4b6e-a1f0-b571a12b99ae",
    "_uuid": "96ecf5c5472ceff5652b3a8fcb0b9d8f51e41337"
   },
   "source": [
    "#### Plot for Subverticals"
   ]
  },
  {
   "cell_type": "code",
   "execution_count": 34,
   "metadata": {
    "_cell_guid": "44fa9223-ee3b-40f2-b057-c725a8819590",
    "_uuid": "b8b71db1d8cc8e36a88dcae807dd6c984ca3630c"
   },
   "outputs": [
    {
     "data": {
      "image/png": "[encoded data removed]",
      "text/plain": [
       "<Figure size 1080x576 with 1 Axes>"
      ]
     },
     "metadata": {
      "needs_background": "light"
     },
     "output_type": "display_data"
    }
   ],
   "source": [
    "plt.figure(figsize=(15,8))\n",
    "sns.barplot(sub_vertical.index, sub_vertical.values, alpha=0.9)\n",
    "plt.xticks(rotation='vertical')\n",
    "plt.xlabel('Industry Sub Verticals', fontsize=12)\n",
    "plt.ylabel('Number of fundings made', fontsize=12)\n",
    "plt.title(\"Industry Sub Verticals-Number of fundings distribution\", fontsize=16)\n",
    "plt.show()"
   ]
  },
  {
   "cell_type": "markdown",
   "metadata": {
    "_cell_guid": "1bb45bba-a570-4810-906e-8eedcb3fe3a2",
    "_uuid": "78971f4aca29b8c3f85fba2c59c1b0fb00059f44"
   },
   "source": [
    "#### Conclusions from above\n",
    "*  Online Pharmacy leads the way with 9 investments"
   ]
  },
  {
   "cell_type": "markdown",
   "metadata": {
    "_cell_guid": "c8a0c07c-45c1-488d-9915-2c7b3b82166d",
    "_uuid": "dfc3b6541288b31a27a0d038824ff42e6e0a5f65"
   },
   "source": [
    "## Investment Types"
   ]
  },
  {
   "cell_type": "code",
   "execution_count": 35,
   "metadata": {
    "_cell_guid": "a7e24cf8-4d35-4edf-9c45-750660f77fde",
    "_uuid": "7cb26f59e068f3701f0d72c74eea2c3248495566"
   },
   "outputs": [
    {
     "name": "stdout",
     "output_type": "stream",
     "text": [
      "Seed Funding      1301\n",
      "Private Equity    1067\n",
      "Crowd Funding        2\n",
      "Debt Funding         1\n",
      "Name: InvestmentType, dtype: int64\n"
     ]
    }
   ],
   "source": [
    "Investment_Type = fund_data['InvestmentType'].value_counts()\n",
    "print(Investment_Type)"
   ]
  },
  {
   "cell_type": "code",
   "execution_count": 36,
   "metadata": {
    "_cell_guid": "e563f366-04e0-49fb-9c3a-a53f6c233de7",
    "_uuid": "65085a5be88cb76b489b2f2cfcadf33e7d121673"
   },
   "outputs": [
    {
     "data": {
      "image/png": "[encoded data removed]",
      "text/plain": [
       "<Figure size 864x360 with 1 Axes>"
      ]
     },
     "metadata": {
      "needs_background": "light"
     },
     "output_type": "display_data"
    }
   ],
   "source": [
    "plt.figure(figsize=(12,5))\n",
    "sns.barplot(Investment_Type.index, Investment_Type.values, alpha=0.9)\n",
    "plt.xticks(rotation='vertical')\n",
    "plt.xlabel('Investment Type', fontsize=12)\n",
    "plt.ylabel('Number of fundings made', fontsize=12)\n",
    "plt.title(\"Investment Type - Number of fundings distribution\", fontsize=16)\n",
    "plt.show()"
   ]
  },
  {
   "cell_type": "markdown",
   "metadata": {
    "_cell_guid": "e5ed6057-93c7-4c2b-b039-858bb8204839",
    "_uuid": "db2f7a6dbdeefb784a9f56c59322e59f9e25c47d"
   },
   "source": [
    "#### Conclusions from above\n",
    "* Seed Funding and Private funding is the most preferred way of investments by Investors"
   ]
  },
  {
   "cell_type": "markdown",
   "metadata": {
    "_cell_guid": "906a8d77-660e-4360-8f9c-7807afcbbcb0",
    "_uuid": "7252904ec84e4acbd7b0d3195db65e58f285eecb"
   },
   "source": [
    "## Cities"
   ]
  },
  {
   "cell_type": "markdown",
   "metadata": {
    "_cell_guid": "175e5eae-f6ab-4950-a32a-d6f87aa28ffa",
    "_uuid": "d358e6132e443c0e9b0c106424890c847cb51db0"
   },
   "source": [
    "#### Unquie Locations"
   ]
  },
  {
   "cell_type": "code",
   "execution_count": 38,
   "metadata": {
    "_cell_guid": "6cdcb9b9-1a4d-4f68-b6ec-4fa195692618",
    "_uuid": "5b26b7b09c6b05966316bd8af5789d8efb9d0170"
   },
   "outputs": [
    {
     "data": {
      "text/plain": [
       "72"
      ]
     },
     "execution_count": 38,
     "metadata": {},
     "output_type": "execute_result"
    }
   ],
   "source": [
    "len(fund_data['CityLocation'].unique())"
   ]
  },
  {
   "cell_type": "code",
   "execution_count": 39,
   "metadata": {
    "_cell_guid": "8c265a01-8282-4ade-aafb-f174f1ccf5f0",
    "_uuid": "23ce9ae38c8a7ea44781f7f4efac1c1799731017"
   },
   "outputs": [
    {
     "data": {
      "text/plain": [
       "Bangalore    627\n",
       "Mumbai       446\n",
       "New Delhi    381\n",
       "Gurgaon      240\n",
       "Pune          84\n",
       "Noida         78\n",
       "Hyderabad     76\n",
       "Chennai       66\n",
       "Ahmedabad     35\n",
       "Jaipur        25\n",
       "Name: CityLocation, dtype: int64"
      ]
     },
     "execution_count": 39,
     "metadata": {},
     "output_type": "execute_result"
    }
   ],
   "source": [
    "\n",
    "fund_data['CityLocation'].value_counts().head(10)"
   ]
  },
  {
   "cell_type": "code",
   "execution_count": 40,
   "metadata": {
    "_cell_guid": "96d9de29-f248-4458-b1c2-17405837a162",
    "_uuid": "e3e4ff591bf8125870157d84dac6bfe832939d91"
   },
   "outputs": [
    {
     "data": {
      "image/png": "[encoded data removed]",
      "text/plain": [
       "<Figure size 1152x648 with 1 Axes>"
      ]
     },
     "metadata": {
      "needs_background": "light"
     },
     "output_type": "display_data"
    }
   ],
   "source": [
    "fund_city = fund_data['CityLocation'].value_counts()\n",
    "plt.figure(figsize=(16,9))\n",
    "sns.barplot(fund_city.index, fund_city.values, alpha=0.9)\n",
    "plt.xticks(rotation='vertical')\n",
    "plt.xlabel('City', fontsize=12)\n",
    "plt.ylabel('Number of fundings made', fontsize=12)\n",
    "plt.title(\"City - Number of fundings distribution\", fontsize=16)\n",
    "plt.show()"
   ]
  },
  {
   "cell_type": "markdown",
   "metadata": {
    "_cell_guid": "4e5b4875-2eb8-4b39-8304-cbe619e2e160",
    "_uuid": "ad91acd9b555ff72522e758dc183a5731ffa25bb"
   },
   "source": [
    "#### Conclusions from above\n",
    "* Banglore attracted the most investors with a total of 627 investors. (26.4%)\n",
    "* Mumbai with 446 investors. (18.8%)\n",
    "* New Delhi with 381 investors. (16.1%)\n",
    "* __Intersting note : __  Few II Tier and III cities like Varanasi, Indore, Siliguri, Karur, Nagpur, Belgaum, Kozhikode have also attracted some investors. "
   ]
  },
  {
   "cell_type": "markdown",
   "metadata": {
    "_cell_guid": "7d4e9f6e-72fa-4d76-987c-b39a060b52a1",
    "_uuid": "9479fce66baf117b1eb9ca3b431b38dd5b2fef21"
   },
   "source": [
    "## Investors"
   ]
  },
  {
   "cell_type": "markdown",
   "metadata": {
    "_cell_guid": "0ac24d64-8732-486a-acb6-cfe9e0cb3a88",
    "_uuid": "d7b609a47763a6f238223ed8c539394d7fd2061e"
   },
   "source": [
    "### Processing Investors Column"
   ]
  },
  {
   "cell_type": "markdown",
   "metadata": {
    "_cell_guid": "638debda-e109-4bb3-8682-decba547630d",
    "_uuid": "312c3711c8458d5ebdacde98ea131f86926b009c"
   },
   "source": [
    "The Investors column need to be pre processed because the cells having more the one investors will also be treated ad a single identity,  therfore they need to be seperated corrected and combine for give the right results"
   ]
  },
  {
   "cell_type": "code",
   "execution_count": 41,
   "metadata": {
    "_cell_guid": "88ec9e59-c335-4799-86fe-9d1ccaf2c81c",
    "_uuid": "2946644fe776bf026c8a28a75e73c257bd2e5f93"
   },
   "outputs": [
    {
     "name": "stdout",
     "output_type": "stream",
     "text": [
      "0                                          Kae Capital\n",
      "1                           Triton Investment Advisors\n",
      "2    Kashyap Deorah, Anand Sankeshwar, Deepak Jain,...\n",
      "3    Kunal Shah, LetsVenture, Anupam Mittal, Hetal ...\n",
      "4                       Narottam Thudi, Shireesh Palle\n",
      "Name: InvestorsName, dtype: object\n"
     ]
    }
   ],
   "source": [
    "fund_data['InvestorsName'] = fund_data['InvestorsName'].fillna(\"No info Available\")\n",
    "names = fund_data[\"InvestorsName\"][~pd.isnull(fund_data[\"InvestorsName\"])]\n",
    "print(names.head())"
   ]
  },
  {
   "cell_type": "code",
   "execution_count": 42,
   "metadata": {
    "_cell_guid": "20a9a53a-1ae9-48ff-87f6-4dfab99f2253",
    "_uuid": "3c71f929e6efcf897c5111c78b05e5acecb917cb"
   },
   "outputs": [],
   "source": [
    "Investor_list = fund_data['InvestorsName'].str.split(',').apply(pd.Series)"
   ]
  },
  {
   "cell_type": "markdown",
   "metadata": {
    "_cell_guid": "6beb0913-0c9a-454d-9b24-646d086af41f",
    "_uuid": "17aff4f796c6f64572435603cc9a68d0a6ab1969"
   },
   "source": [
    "#### Seperating each cell"
   ]
  },
  {
   "cell_type": "code",
   "execution_count": 43,
   "metadata": {
    "_cell_guid": "8246684e-6c9a-431f-a07a-61b50c0c6edc",
    "_uuid": "0fe1929b47189e3bc88ed05988ec3ecb5fa07adb"
   },
   "outputs": [
    {
     "data": {
      "text/html": [
       "<div>\n",
       "<style scoped>\n",
       "    .dataframe tbody tr th:only-of-type {\n",
       "        vertical-align: middle;\n",
       "    }\n",
       "\n",
       "    .dataframe tbody tr th {\n",
       "        vertical-align: top;\n",
       "    }\n",
       "\n",
       "    .dataframe thead th {\n",
       "        text-align: right;\n",
       "    }\n",
       "</style>\n",
       "<table border=\"1\" class=\"dataframe\">\n",
       "  <thead>\n",
       "    <tr style=\"text-align: right;\">\n",
       "      <th></th>\n",
       "      <th>0</th>\n",
       "      <th>1</th>\n",
       "      <th>2</th>\n",
       "      <th>3</th>\n",
       "      <th>4</th>\n",
       "      <th>5</th>\n",
       "      <th>6</th>\n",
       "      <th>7</th>\n",
       "      <th>8</th>\n",
       "      <th>9</th>\n",
       "    </tr>\n",
       "  </thead>\n",
       "  <tbody>\n",
       "    <tr>\n",
       "      <th>0</th>\n",
       "      <td>Kae Capital</td>\n",
       "      <td>NaN</td>\n",
       "      <td>NaN</td>\n",
       "      <td>NaN</td>\n",
       "      <td>NaN</td>\n",
       "      <td>NaN</td>\n",
       "      <td>NaN</td>\n",
       "      <td>NaN</td>\n",
       "      <td>NaN</td>\n",
       "      <td>NaN</td>\n",
       "    </tr>\n",
       "    <tr>\n",
       "      <th>1</th>\n",
       "      <td>Triton Investment Advisors</td>\n",
       "      <td>NaN</td>\n",
       "      <td>NaN</td>\n",
       "      <td>NaN</td>\n",
       "      <td>NaN</td>\n",
       "      <td>NaN</td>\n",
       "      <td>NaN</td>\n",
       "      <td>NaN</td>\n",
       "      <td>NaN</td>\n",
       "      <td>NaN</td>\n",
       "    </tr>\n",
       "    <tr>\n",
       "      <th>2</th>\n",
       "      <td>Kashyap Deorah</td>\n",
       "      <td>Anand Sankeshwar</td>\n",
       "      <td>Deepak Jain</td>\n",
       "      <td>Sadashiva NT</td>\n",
       "      <td>Arjun Mehta</td>\n",
       "      <td>Satish Kaul</td>\n",
       "      <td>Anindya Ghose</td>\n",
       "      <td>NaN</td>\n",
       "      <td>NaN</td>\n",
       "      <td>NaN</td>\n",
       "    </tr>\n",
       "    <tr>\n",
       "      <th>3</th>\n",
       "      <td>Kunal Shah</td>\n",
       "      <td>LetsVenture</td>\n",
       "      <td>Anupam Mittal</td>\n",
       "      <td>Hetal Sonpal</td>\n",
       "      <td>NaN</td>\n",
       "      <td>NaN</td>\n",
       "      <td>NaN</td>\n",
       "      <td>NaN</td>\n",
       "      <td>NaN</td>\n",
       "      <td>NaN</td>\n",
       "    </tr>\n",
       "    <tr>\n",
       "      <th>4</th>\n",
       "      <td>Narottam Thudi</td>\n",
       "      <td>Shireesh Palle</td>\n",
       "      <td>NaN</td>\n",
       "      <td>NaN</td>\n",
       "      <td>NaN</td>\n",
       "      <td>NaN</td>\n",
       "      <td>NaN</td>\n",
       "      <td>NaN</td>\n",
       "      <td>NaN</td>\n",
       "      <td>NaN</td>\n",
       "    </tr>\n",
       "  </tbody>\n",
       "</table>\n",
       "</div>"
      ],
      "text/plain": [
       "                            0                  1               2  \\\n",
       "0                 Kae Capital                NaN             NaN   \n",
       "1  Triton Investment Advisors                NaN             NaN   \n",
       "2              Kashyap Deorah   Anand Sankeshwar     Deepak Jain   \n",
       "3                  Kunal Shah        LetsVenture   Anupam Mittal   \n",
       "4              Narottam Thudi     Shireesh Palle             NaN   \n",
       "\n",
       "               3             4             5               6    7    8    9  \n",
       "0            NaN           NaN           NaN             NaN  NaN  NaN  NaN  \n",
       "1            NaN           NaN           NaN             NaN  NaN  NaN  NaN  \n",
       "2   Sadashiva NT   Arjun Mehta   Satish Kaul   Anindya Ghose  NaN  NaN  NaN  \n",
       "3   Hetal Sonpal           NaN           NaN             NaN  NaN  NaN  NaN  \n",
       "4            NaN           NaN           NaN             NaN  NaN  NaN  NaN  "
      ]
     },
     "execution_count": 43,
     "metadata": {},
     "output_type": "execute_result"
    }
   ],
   "source": [
    "Investor_list.head()"
   ]
  },
  {
   "cell_type": "code",
   "execution_count": 44,
   "metadata": {
    "_cell_guid": "b8b4ace9-d186-4ba7-8a87-14e8fec01774",
    "_uuid": "02fbfc9c1a469cd3f08de0b2568ca7f6925cb55d"
   },
   "outputs": [
    {
     "name": "stdout",
     "output_type": "stream",
     "text": [
      "Combining all columns into one\n",
      "     newinvest\n",
      "0  Kae Capital\n",
      "1          NaN\n",
      "2          NaN\n",
      "3          NaN\n",
      "4          NaN\n",
      "5          NaN\n",
      "6          NaN\n",
      "7          NaN\n",
      "8          NaN\n",
      "9          NaN\n"
     ]
    }
   ],
   "source": [
    "print(\"Combining all columns into one\")\n",
    "df = Investor_list.stack(dropna=False).reset_index(drop=True).to_frame('newinvest')\n",
    "print(df.head(10))"
   ]
  },
  {
   "cell_type": "code",
   "execution_count": 46,
   "metadata": {
    "_cell_guid": "fdca1d82-9a1d-4477-9443-dd7c4bbab6e1",
    "_uuid": "1d60fb589f3c24c27080b2b23ff975df59d15168"
   },
   "outputs": [],
   "source": [
    "InvestorsName = df.dropna(axis=0, how='all')"
   ]
  },
  {
   "cell_type": "code",
   "execution_count": 47,
   "metadata": {
    "_cell_guid": "1f5087b2-2b7e-468a-bf65-a64993ffb0e4",
    "_uuid": "22c3cf11a60714609491e7fdf89c4cc6492f1cec"
   },
   "outputs": [],
   "source": [
    "# Correcting typos\n",
    "InvestorsName=InvestorsName.replace({\" Sequoia Capital\":\"Sequoia Capital\"})\n",
    "InvestorsName=InvestorsName.replace({\"Undisclosed investors\":\"Undisclosed Investors\"})\n",
    "InvestorsName=InvestorsName.replace({\"undisclosed investors\":\"Undisclosed Investors\"})\n",
    "InvestorsName=InvestorsName.replace({\"undisclosed Investors\":\"Undisclosed Investors\"})\n",
    "InvestorsName=InvestorsName.replace({\"Undisclosed\":\"Undisclosed Investors\"})\n",
    "InvestorsName=InvestorsName.replace({\"Undisclosed Investor\":\"Undisclosed Investors\"})\n",
    "InvestorsName=InvestorsName.replace({\" Accel Partners\":\"Accel Partners\"})\n",
    "InvestorsName=InvestorsName.replace({\" Blume Ventures\":\"Blume Ventures\"})\n",
    "InvestorsName=InvestorsName.replace({\" SAIF Partners\":\"SAIF Partners\"})\n",
    "InvestorsName=InvestorsName.replace({\" Kalaari Capital\":\"Kalaari Capital\"})"
   ]
  },
  {
   "cell_type": "markdown",
   "metadata": {
    "_cell_guid": "c0ae59fe-c54d-4791-9765-4ac811dc590a",
    "_uuid": "130f286db39c2269e381607e4275bdbc69b803f8"
   },
   "source": [
    "#### Total investments"
   ]
  },
  {
   "cell_type": "code",
   "execution_count": 48,
   "metadata": {
    "_cell_guid": "99f34186-d9a2-4a7d-b9e0-265c82ac1fef",
    "_uuid": "9a34e55b61087f5da603fb0910f13d76ebc886af"
   },
   "outputs": [
    {
     "data": {
      "text/plain": [
       "4577"
      ]
     },
     "execution_count": 48,
     "metadata": {},
     "output_type": "execute_result"
    }
   ],
   "source": [
    "len(InvestorsName['newinvest'])"
   ]
  },
  {
   "cell_type": "code",
   "execution_count": 49,
   "metadata": {
    "_cell_guid": "7039226a-c466-468a-acc5-009bb9449b7e",
    "_uuid": "d2e946b336ae77dc497adbbcc69aba87690e0aa9"
   },
   "outputs": [
    {
     "data": {
      "text/html": [
       "<div>\n",
       "<style scoped>\n",
       "    .dataframe tbody tr th:only-of-type {\n",
       "        vertical-align: middle;\n",
       "    }\n",
       "\n",
       "    .dataframe tbody tr th {\n",
       "        vertical-align: top;\n",
       "    }\n",
       "\n",
       "    .dataframe thead th {\n",
       "        text-align: right;\n",
       "    }\n",
       "</style>\n",
       "<table border=\"1\" class=\"dataframe\">\n",
       "  <thead>\n",
       "    <tr style=\"text-align: right;\">\n",
       "      <th></th>\n",
       "      <th>newinvest</th>\n",
       "    </tr>\n",
       "  </thead>\n",
       "  <tbody>\n",
       "    <tr>\n",
       "      <th>0</th>\n",
       "      <td>Kae Capital</td>\n",
       "    </tr>\n",
       "    <tr>\n",
       "      <th>10</th>\n",
       "      <td>Triton Investment Advisors</td>\n",
       "    </tr>\n",
       "    <tr>\n",
       "      <th>20</th>\n",
       "      <td>Kashyap Deorah</td>\n",
       "    </tr>\n",
       "    <tr>\n",
       "      <th>21</th>\n",
       "      <td>Anand Sankeshwar</td>\n",
       "    </tr>\n",
       "    <tr>\n",
       "      <th>22</th>\n",
       "      <td>Deepak Jain</td>\n",
       "    </tr>\n",
       "    <tr>\n",
       "      <th>23</th>\n",
       "      <td>Sadashiva NT</td>\n",
       "    </tr>\n",
       "    <tr>\n",
       "      <th>24</th>\n",
       "      <td>Arjun Mehta</td>\n",
       "    </tr>\n",
       "    <tr>\n",
       "      <th>25</th>\n",
       "      <td>Satish Kaul</td>\n",
       "    </tr>\n",
       "    <tr>\n",
       "      <th>26</th>\n",
       "      <td>Anindya Ghose</td>\n",
       "    </tr>\n",
       "    <tr>\n",
       "      <th>30</th>\n",
       "      <td>Kunal Shah</td>\n",
       "    </tr>\n",
       "  </tbody>\n",
       "</table>\n",
       "</div>"
      ],
      "text/plain": [
       "                     newinvest\n",
       "0                  Kae Capital\n",
       "10  Triton Investment Advisors\n",
       "20              Kashyap Deorah\n",
       "21            Anand Sankeshwar\n",
       "22                 Deepak Jain\n",
       "23                Sadashiva NT\n",
       "24                 Arjun Mehta\n",
       "25                 Satish Kaul\n",
       "26               Anindya Ghose\n",
       "30                  Kunal Shah"
      ]
     },
     "execution_count": 49,
     "metadata": {},
     "output_type": "execute_result"
    }
   ],
   "source": [
    "# Now all investors are sperated into individual rows\n",
    "InvestorsName.head(10)"
   ]
  },
  {
   "cell_type": "markdown",
   "metadata": {
    "_cell_guid": "91184c6b-374c-4d4e-91c7-177a3581245e",
    "_uuid": "81a0865e803d4fbdb5e9951ca550877ddf69b6f4"
   },
   "source": [
    "#### Unique Investors"
   ]
  },
  {
   "cell_type": "code",
   "execution_count": 50,
   "metadata": {
    "_cell_guid": "ca5087df-41c3-415e-a463-d38a7b9a35a0",
    "_uuid": "1b34821f7d4b2780c2cda52484d901ba83c4b1a1"
   },
   "outputs": [
    {
     "name": "stdout",
     "output_type": "stream",
     "text": [
      "2544\n"
     ]
    }
   ],
   "source": [
    "InvestorsName['newinvest'] = InvestorsName['newinvest'].str.strip()\n",
    "print(len(InvestorsName['newinvest'].unique()))"
   ]
  },
  {
   "cell_type": "code",
   "execution_count": 51,
   "metadata": {
    "_cell_guid": "dbee3184-394c-482c-9ced-496a7cea5d12",
    "_uuid": "5d53f7a082dc826471838570643540e0868e647e"
   },
   "outputs": [
    {
     "name": "stdout",
     "output_type": "stream",
     "text": [
      "Undisclosed Investors          91\n",
      "Sequoia Capital                64\n",
      "Accel Partners                 53\n",
      "Kalaari Capital                44\n",
      "SAIF Partners                  41\n",
      "Indian Angel Network           40\n",
      "Blume Ventures                 39\n",
      "                               38\n",
      "Ratan Tata                     30\n",
      "Tiger Global                   25\n",
      "Rajan Anandan                  25\n",
      "Nexus Venture Partners         24\n",
      "IDG Ventures                   22\n",
      "Kae Capital                    22\n",
      "India Quotient                 21\n",
      "500 Startups                   20\n",
      "Matrix Partners                18\n",
      "Anupam Mittal                  18\n",
      "LetsVenture                    17\n",
      "Mumbai Angels                  17\n",
      "Kunal Shah                     17\n",
      "Omidyar Network                16\n",
      "Unitus Seed Fund               16\n",
      "IDG Ventures India             15\n",
      "Norwest Venture Partners       15\n",
      "Group of Angel Investors       15\n",
      "Sequoia India                  15\n",
      "ah! Ventures                   14\n",
      "Tracxn Labs                    14\n",
      "Tiger Global Management        14\n",
      "Sandeep Tandon                 14\n",
      "TV Mohandas Pai                14\n",
      "Bessemer Venture Partners      14\n",
      "Helion Venture Partners        14\n",
      "Anand Chandrasekaran           13\n",
      "Kunal Bahl                     13\n",
      "Jungle Ventures                13\n",
      "Girish Mathrubootham           13\n",
      "Brand Capital                  13\n",
      "Lightspeed Venture Partners    12\n",
      "The Chennai Angels             12\n",
      "Aprameya Radhakrishna          12\n",
      "Rohit Bansal                   12\n",
      "Singapore Angel Network        12\n",
      "Axilor Ventures                11\n",
      "Orios Venture Partners         11\n",
      "YourNest Angel Fund            11\n",
      "Vijay Shekhar Sharma           11\n",
      "YouWeCan Ventures              11\n",
      "Flipkart                       11\n",
      "Name: newinvest, dtype: int64\n"
     ]
    }
   ],
   "source": [
    "Investors_top50 = InvestorsName['newinvest'].value_counts().head(50)\n",
    "# Top 50 investors\n",
    "print(Investors_top50)"
   ]
  },
  {
   "cell_type": "markdown",
   "metadata": {
    "_cell_guid": "080ce44b-e685-48d1-8b3b-c6f0ee3a6ac7",
    "_uuid": "018e9fe27b907c1e0881aaa96d7a627f4273e7c7"
   },
   "source": [
    "#### Plot for Investors"
   ]
  },
  {
   "cell_type": "code",
   "execution_count": 52,
   "metadata": {
    "_cell_guid": "a3aad5e1-45b5-4f1f-a6b9-4d25788608f6",
    "_uuid": "cc833050d11c9bb1dd4fe85c2802693d375e535e"
   },
   "outputs": [
    {
     "data": {
      "image/png": "[encoded data removed]",
      "text/plain": [
       "<Figure size 1152x648 with 1 Axes>"
      ]
     },
     "metadata": {
      "needs_background": "light"
     },
     "output_type": "display_data"
    }
   ],
   "source": [
    "plt.figure(figsize=(16,9))\n",
    "sns.barplot(Investors_top50.index, Investors_top50.values, alpha=0.9)\n",
    "plt.xticks(rotation='vertical')\n",
    "plt.xlabel('Investors', fontsize=12)\n",
    "plt.ylabel('Number of Startups Invested In', fontsize=12)\n",
    "plt.title(\"Investors - Investment distribution\", fontsize=16)\n",
    "plt.show()"
   ]
  },
  {
   "cell_type": "markdown",
   "metadata": {
    "_cell_guid": "825c1085-39af-4b8f-8bf9-474abdde32b3",
    "_uuid": "ad0b9aebef78f741c83409b9dbe63bc53f210ca2"
   },
   "source": [
    "#### Squarify plot for Investors"
   ]
  },
  {
   "cell_type": "code",
   "execution_count": 53,
   "metadata": {
    "_cell_guid": "51829fdb-5ad1-44e6-ba20-2f7566fcade9",
    "_uuid": "44b2cea8b9d83b63027c05cfd0efdfc1814aaf4b"
   },
   "outputs": [
    {
     "data": {
      "text/plain": [
       "Text(0.5, 1.0, 'Distribution of Investors and Investments Done')"
      ]
     },
     "execution_count": 53,
     "metadata": {},
     "output_type": "execute_result"
    },
    {
     "data": {
      "image/png": "[encoded data removed]",
      "text/plain": [
       "<Figure size 1152x648 with 1 Axes>"
      ]
     },
     "metadata": {
      "needs_background": "light"
     },
     "output_type": "display_data"
    }
   ],
   "source": [
    "plt.figure(figsize=(16,9))\n",
    "squarify.plot(sizes=Investors_top50.values,label=Investors_top50.index, value=Investors_top50.values,color=[\"#FF6138\",\"#FFFF9D\",\"#BEEB9F\", \"#79BD8F\",\"#684656\",\"#E7EFF3\"], alpha=0.6)\n",
    "plt.title('Distribution of Investors and Investments Done')"
   ]
  },
  {
   "cell_type": "markdown",
   "metadata": {
    "_cell_guid": "b562329d-1b03-4588-85e3-826e5978197e",
    "_uuid": "77c682ec3db739584fce90eda5fd3a9834230209"
   },
   "source": [
    "#### Conclusions from above\n",
    "* The plot shows that __Undisclosed Investors__ have done the most investments.\n",
    "* Followed by Sequoia Capitals with 64 Investments\n",
    "* Individuals like __Ratan Tata( Former chairman of Tata Sons)__ and __Rajan Anandan( VP,Google SE Asia and India)__ have invested in 30 and 25 companies respectively, most by any individuals"
   ]
  },
  {
   "cell_type": "markdown",
   "metadata": {
    "_cell_guid": "2df17f73-e0d9-43b2-a12c-296bdd2e455f",
    "_uuid": "12a5a3c396575eb7c562f4724bff1e6a15f468f0"
   },
   "source": [
    "### So this was my analysis on the Indian Startup Funding. More to come.\n",
    "### Any remarks are welcomed. \n",
    "### Please upvote if you like the kernal.\n",
    "\n",
    "\n",
    "## Thanks You!!"
   ]
  },
  {
   "cell_type": "code",
   "execution_count": null,
   "metadata": {
    "_cell_guid": "128faf89-5684-4617-bf5e-cdccb43044a6",
    "_uuid": "909c99b0e509f838b01e97f1c57130c1829e4d37",
    "collapsed": true
   },
   "outputs": [],
   "source": []
  },
  {
   "cell_type": "code",
   "execution_count": null,
   "metadata": {
    "_cell_guid": "ae22da79-793b-496a-92e2-8077f92f3419",
    "_uuid": "cfd625fad360a79536392b0b9148bd2d64baab15",
    "collapsed": true
   },
   "outputs": [],
   "source": []
  }
 ],
 "metadata": {
  "kernelspec": {
   "display_name": "Python 3",
   "language": "python",
   "name": "python3"
  },
  "language_info": {
   "codemirror_mode": {
    "name": "ipython",
    "version": 3
   },
   "file_extension": ".py",
   "mimetype": "text/x-python",
   "name": "python",
   "nbconvert_exporter": "python",
   "pygments_lexer": "ipython3",
   "version": "3.5.2"
  }
 },
 "nbformat": 4,
 "nbformat_minor": 1
}
