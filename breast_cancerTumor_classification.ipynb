{
 "cells": [
  {
   "cell_type": "code",
   "execution_count": 3,
   "metadata": {},
   "outputs": [],
   "source": [
    "from sklearn.datasets import load_breast_cancer\n",
    "import pandas as pd"
   ]
  },
  {
   "cell_type": "code",
   "execution_count": 6,
   "metadata": {},
   "outputs": [],
   "source": [
    "#Load  dataset\n",
    "\n",
    "data=load_breast_cancer()\n"
   ]
  },
  {
   "cell_type": "code",
   "execution_count": 8,
   "metadata": {},
   "outputs": [],
   "source": [
    "#Organising our data\n",
    "\n",
    "label_names=data['target_names']\n",
    "label=data['target']\n",
    "\n",
    "feature_names=data['feature_names']\n",
    "features=data['data']\n"
   ]
  },
  {
   "cell_type": "code",
   "execution_count": 41,
   "metadata": {},
   "outputs": [
    {
     "name": "stdout",
     "output_type": "stream",
     "text": [
      "['malignant' 'benign']\n",
      "-------------------------------------------------------\n",
      "Class label= 0\n",
      "-------------------------------------------------------\n",
      "mean radius\n",
      "-------------------------------------------------------\n",
      "[1.799e+01 1.038e+01 1.228e+02 1.001e+03 1.184e-01 2.776e-01 3.001e-01\n",
      " 1.471e-01 2.419e-01 7.871e-02 1.095e+00 9.053e-01 8.589e+00 1.534e+02\n",
      " 6.399e-03 4.904e-02 5.373e-02 1.587e-02 3.003e-02 6.193e-03 2.538e+01\n",
      " 1.733e+01 1.846e+02 2.019e+03 1.622e-01 6.656e-01 7.119e-01 2.654e-01\n",
      " 4.601e-01 1.189e-01]\n"
     ]
    }
   ],
   "source": [
    "# Taking a look at our data\n",
    "# prints first instance of our dataset\n",
    "print(label_names)\n",
    "print(\"-------------------------------------------------------\")\n",
    "print(\"Class label=\",label[0])\n",
    "print(\"-------------------------------------------------------\")\n",
    "print(feature_names[0])\n",
    "print(\"-------------------------------------------------------\")\n",
    "print(features[0])"
   ]
  },
  {
   "cell_type": "markdown",
   "metadata": {},
   "source": [
    "* Our class names are malignant ane benign, which are then mapped to binary values of 0 and 1\n",
    "\n",
    "* 0 represents malignant tumors\n",
    "* 1 represents benign tumors\n",
    "* Our first instance is Malignant tumor whose mean radius is 1.799e+01\n"
   ]
  },
  {
   "cell_type": "markdown",
   "metadata": {},
   "source": [
    "<font color='blue'> Organizing data into sets</font>"
   ]
  },
  {
   "cell_type": "markdown",
   "metadata": {},
   "source": [
    "To evaluate how a classifier is performing, we should always test\n",
    "the model on unseen data. \n",
    "Therefore, before building a model, lets split our\n",
    "data into two parts: *a training set* and a *test set.*\n",
    "\n",
    "* we use the training set to train and evaluate the model during the development stage and then use the trained model to make predictions on the unseen test set. \n",
    "\n",
    "<font color=\"red\"> This approach gives a sense of the model’s performance and robustness. </font>\n",
    "\n",
    "\n",
    "* sklearn has a function called *train_test_split()*,\n",
    "which divides data into these sets. \n",
    "* Import the function and then use it to split the data:\n",
    "\n"
   ]
  },
  {
   "cell_type": "code",
   "execution_count": 22,
   "metadata": {},
   "outputs": [],
   "source": [
    "from sklearn.model_selection import train_test_split"
   ]
  },
  {
   "cell_type": "code",
   "execution_count": 25,
   "metadata": {},
   "outputs": [],
   "source": [
    "#If random_state is an integer,\n",
    "#then it is used to seed a new RandomState object.\n",
    "train,test,train_labels,test_labels=train_test_split(\n",
    "    features,label,test_size=0.33,random_state=42)"
   ]
  },
  {
   "cell_type": "markdown",
   "metadata": {},
   "source": [
    "* The function randomly splits the data using the test_size\n",
    "parameter\n",
    "\n",
    "* Here we have test set (test) that represents\n",
    " 33% of the original dataset.\n",
    " The remaining data (train) is training data.\n",
    "\n",
    "\n",
    "* Respective labels for train/test variables are *train_labels* and *test_labels*\n",
    "\n"
   ]
  },
  {
   "cell_type": "markdown",
   "metadata": {},
   "source": [
    "<font color=\"red\"> building model and evaluation using Naive Bayes</font>"
   ]
  },
  {
   "cell_type": "markdown",
   "metadata": {},
   "source": [
    "* import the GaussianNB module. \n",
    "* initialize the model with the GaussianNB() function\n",
    "* Train the model by fitting it to the data using gnb.fit()"
   ]
  },
  {
   "cell_type": "code",
   "execution_count": 28,
   "metadata": {},
   "outputs": [],
   "source": [
    "from sklearn.naive_bayes import GaussianNB\n",
    "\n",
    "# initialize classifier\n",
    "gnb=GaussianNB()"
   ]
  },
  {
   "cell_type": "code",
   "execution_count": 29,
   "metadata": {},
   "outputs": [],
   "source": [
    "#train clasifier\n",
    "model = gnb.fit(train,train_labels)"
   ]
  },
  {
   "cell_type": "markdown",
   "metadata": {},
   "source": [
    "* after training the model we use it to make predictions on our test dataset using *Predict()* function\n",
    "\n",
    "* The predict() functions returns array of predictions for each data instance in the test set\n",
    "\n",
    "* we use predict() function with the test set"
   ]
  },
  {
   "cell_type": "code",
   "execution_count": 31,
   "metadata": {},
   "outputs": [
    {
     "name": "stdout",
     "output_type": "stream",
     "text": [
      "[1 0 0 1 1 0 0 0 1 1 1 0 1 0 1 0 1 1 1 0 1 1 0 1 1 1 1 1 1 0 1 1 1 1 1 1 0\n",
      " 1 0 1 1 0 1 1 1 1 1 1 1 1 0 0 1 1 1 1 1 0 0 1 1 0 0 1 1 1 0 0 1 1 0 0 1 0\n",
      " 1 1 1 1 1 1 0 1 1 0 0 0 0 0 1 1 1 1 1 1 1 1 0 0 1 0 0 1 0 0 1 1 1 0 1 1 0\n",
      " 1 1 0 0 0 1 1 1 0 0 1 1 0 1 0 0 1 1 0 0 0 1 1 1 0 1 1 0 0 1 0 1 1 0 1 0 0\n",
      " 1 1 1 1 1 1 1 0 0 1 1 1 1 1 1 1 1 1 1 1 1 0 0 1 1 0 1 1 0 1 1 1 1 1 1 0 0\n",
      " 0 1 1]\n"
     ]
    }
   ],
   "source": [
    "predc= gnb.predict(test)\n",
    "print(predc)"
   ]
  },
  {
   "cell_type": "markdown",
   "metadata": {},
   "source": [
    "* The function returned predicted values as an array of 0's and 1'a\n",
    "for tumor class(Malignant v/s benign)"
   ]
  },
  {
   "cell_type": "markdown",
   "metadata": {},
   "source": [
    "<font color='blue' size=4 > Evaluating the Model’s Accuracy </font>\n",
    "\n",
    "\n"
   ]
  },
  {
   "cell_type": "markdown",
   "metadata": {},
   "source": [
    "* we can evaluate the accuracy of our model’s predicted values\n",
    "by comparing the two arrays (test_labels vs. predc)\n",
    "\n",
    "* use the sklearn function accuracy_score() to\n",
    "determine the accuracy"
   ]
  },
  {
   "cell_type": "code",
   "execution_count": 40,
   "metadata": {},
   "outputs": [
    {
     "name": "stdout",
     "output_type": "stream",
     "text": [
      "0.9414893617021277\n"
     ]
    }
   ],
   "source": [
    "from sklearn.metrics import accuracy_score\n",
    "print(accuracy_score(test_labels,predc))"
   ]
  },
  {
   "cell_type": "markdown",
   "metadata": {},
   "source": [
    "* It means that 94.15 % of the time the classifier is able to make the correct prediction as to whether or not the tumor is malignant or benign"
   ]
  },
  {
   "cell_type": "code",
   "execution_count": null,
   "metadata": {},
   "outputs": [],
   "source": []
  }
 ],
 "metadata": {
  "kernelspec": {
   "display_name": "Python 3",
   "language": "python",
   "name": "python3"
  },
  "language_info": {
   "codemirror_mode": {
    "name": "ipython",
    "version": 3
   },
   "file_extension": ".py",
   "mimetype": "text/x-python",
   "name": "python",
   "nbconvert_exporter": "python",
   "pygments_lexer": "ipython3",
   "version": "3.5.2"
  }
 },
 "nbformat": 4,
 "nbformat_minor": 2
}
