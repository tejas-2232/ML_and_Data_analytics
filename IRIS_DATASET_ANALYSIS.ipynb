{
 "cells": [
  {
   "cell_type": "code",
   "execution_count": 1,
   "metadata": {},
   "outputs": [],
   "source": [
    "import numpy as np\n",
    "import pandas as pd\n",
    "from matplotlib import pyplot as plt\n",
    "import pylab\n",
    "import seaborn as sns"
   ]
  },
  {
   "cell_type": "code",
   "execution_count": 3,
   "metadata": {},
   "outputs": [],
   "source": [
    "csvPath='Iris.csv'\n",
    "Iris=pd.read_csv(csvPath)\n",
    "df=pd.DataFrame(Iris)"
   ]
  },
  {
   "cell_type": "code",
   "execution_count": 14,
   "metadata": {},
   "outputs": [
    {
     "data": {
      "text/html": [
       "<div>\n",
       "<style scoped>\n",
       "    .dataframe tbody tr th:only-of-type {\n",
       "        vertical-align: middle;\n",
       "    }\n",
       "\n",
       "    .dataframe tbody tr th {\n",
       "        vertical-align: top;\n",
       "    }\n",
       "\n",
       "    .dataframe thead th {\n",
       "        text-align: right;\n",
       "    }\n",
       "</style>\n",
       "<table border=\"1\" class=\"dataframe\">\n",
       "  <thead>\n",
       "    <tr style=\"text-align: right;\">\n",
       "      <th></th>\n",
       "      <th>Id</th>\n",
       "      <th>SepalLengthCm</th>\n",
       "      <th>SepalWidthCm</th>\n",
       "      <th>PetalLengthCm</th>\n",
       "      <th>PetalWidthCm</th>\n",
       "      <th>Species</th>\n",
       "    </tr>\n",
       "  </thead>\n",
       "  <tbody>\n",
       "    <tr>\n",
       "      <th>0</th>\n",
       "      <td>1</td>\n",
       "      <td>5.1</td>\n",
       "      <td>3.5</td>\n",
       "      <td>1.4</td>\n",
       "      <td>0.2</td>\n",
       "      <td>Iris-setosa</td>\n",
       "    </tr>\n",
       "    <tr>\n",
       "      <th>1</th>\n",
       "      <td>2</td>\n",
       "      <td>4.9</td>\n",
       "      <td>3.0</td>\n",
       "      <td>1.4</td>\n",
       "      <td>0.2</td>\n",
       "      <td>Iris-setosa</td>\n",
       "    </tr>\n",
       "  </tbody>\n",
       "</table>\n",
       "</div>"
      ],
      "text/plain": [
       "   Id  SepalLengthCm  SepalWidthCm  PetalLengthCm  PetalWidthCm      Species\n",
       "0   1            5.1           3.5            1.4           0.2  Iris-setosa\n",
       "1   2            4.9           3.0            1.4           0.2  Iris-setosa"
      ]
     },
     "execution_count": 14,
     "metadata": {},
     "output_type": "execute_result"
    }
   ],
   "source": [
    "Iris.head(2)"
   ]
  },
  {
   "cell_type": "code",
   "execution_count": 15,
   "metadata": {},
   "outputs": [
    {
     "name": "stdout",
     "output_type": "stream",
     "text": [
      "Features =  Index(['SepalLengthCm', 'SepalWidthCm', 'PetalLengthCm', 'PetalWidthCm'], dtype='object')\n"
     ]
    }
   ],
   "source": [
    "#displaying features of the dataset\n",
    "print(\"Features = \",df.columns[1:5])"
   ]
  },
  {
   "cell_type": "code",
   "execution_count": 16,
   "metadata": {},
   "outputs": [
    {
     "data": {
      "text/html": [
       "<div>\n",
       "<style scoped>\n",
       "    .dataframe tbody tr th:only-of-type {\n",
       "        vertical-align: middle;\n",
       "    }\n",
       "\n",
       "    .dataframe tbody tr th {\n",
       "        vertical-align: top;\n",
       "    }\n",
       "\n",
       "    .dataframe thead th {\n",
       "        text-align: right;\n",
       "    }\n",
       "</style>\n",
       "<table border=\"1\" class=\"dataframe\">\n",
       "  <thead>\n",
       "    <tr style=\"text-align: right;\">\n",
       "      <th></th>\n",
       "      <th>Id</th>\n",
       "      <th>SepalLengthCm</th>\n",
       "      <th>SepalWidthCm</th>\n",
       "      <th>PetalLengthCm</th>\n",
       "      <th>PetalWidthCm</th>\n",
       "    </tr>\n",
       "  </thead>\n",
       "  <tbody>\n",
       "    <tr>\n",
       "      <th>count</th>\n",
       "      <td>150.000000</td>\n",
       "      <td>150.000000</td>\n",
       "      <td>150.000000</td>\n",
       "      <td>150.000000</td>\n",
       "      <td>150.000000</td>\n",
       "    </tr>\n",
       "    <tr>\n",
       "      <th>mean</th>\n",
       "      <td>75.500000</td>\n",
       "      <td>5.843333</td>\n",
       "      <td>3.054000</td>\n",
       "      <td>3.758667</td>\n",
       "      <td>1.198667</td>\n",
       "    </tr>\n",
       "    <tr>\n",
       "      <th>std</th>\n",
       "      <td>43.445368</td>\n",
       "      <td>0.828066</td>\n",
       "      <td>0.433594</td>\n",
       "      <td>1.764420</td>\n",
       "      <td>0.763161</td>\n",
       "    </tr>\n",
       "    <tr>\n",
       "      <th>min</th>\n",
       "      <td>1.000000</td>\n",
       "      <td>4.300000</td>\n",
       "      <td>2.000000</td>\n",
       "      <td>1.000000</td>\n",
       "      <td>0.100000</td>\n",
       "    </tr>\n",
       "    <tr>\n",
       "      <th>25%</th>\n",
       "      <td>38.250000</td>\n",
       "      <td>5.100000</td>\n",
       "      <td>2.800000</td>\n",
       "      <td>1.600000</td>\n",
       "      <td>0.300000</td>\n",
       "    </tr>\n",
       "    <tr>\n",
       "      <th>50%</th>\n",
       "      <td>75.500000</td>\n",
       "      <td>5.800000</td>\n",
       "      <td>3.000000</td>\n",
       "      <td>4.350000</td>\n",
       "      <td>1.300000</td>\n",
       "    </tr>\n",
       "    <tr>\n",
       "      <th>75%</th>\n",
       "      <td>112.750000</td>\n",
       "      <td>6.400000</td>\n",
       "      <td>3.300000</td>\n",
       "      <td>5.100000</td>\n",
       "      <td>1.800000</td>\n",
       "    </tr>\n",
       "    <tr>\n",
       "      <th>max</th>\n",
       "      <td>150.000000</td>\n",
       "      <td>7.900000</td>\n",
       "      <td>4.400000</td>\n",
       "      <td>6.900000</td>\n",
       "      <td>2.500000</td>\n",
       "    </tr>\n",
       "  </tbody>\n",
       "</table>\n",
       "</div>"
      ],
      "text/plain": [
       "               Id  SepalLengthCm  SepalWidthCm  PetalLengthCm  PetalWidthCm\n",
       "count  150.000000     150.000000    150.000000     150.000000    150.000000\n",
       "mean    75.500000       5.843333      3.054000       3.758667      1.198667\n",
       "std     43.445368       0.828066      0.433594       1.764420      0.763161\n",
       "min      1.000000       4.300000      2.000000       1.000000      0.100000\n",
       "25%     38.250000       5.100000      2.800000       1.600000      0.300000\n",
       "50%     75.500000       5.800000      3.000000       4.350000      1.300000\n",
       "75%    112.750000       6.400000      3.300000       5.100000      1.800000\n",
       "max    150.000000       7.900000      4.400000       6.900000      2.500000"
      ]
     },
     "execution_count": 16,
     "metadata": {},
     "output_type": "execute_result"
    }
   ],
   "source": [
    "#statistics of  all features\n",
    "df.describe()"
   ]
  },
  {
   "cell_type": "code",
   "execution_count": 45,
   "metadata": {},
   "outputs": [
    {
     "name": "stdout",
     "output_type": "stream",
     "text": [
      "Sepal Length Statistics :\n",
      "\n",
      "minimum sepal length--> 4.3\n",
      "Maximum sepal length--> 7.9\n",
      "Range of sepal length -->[4.3,7.9]\n",
      "sepal Length variance--> 0.6811222222222223\n",
      "sepal Length Mean--> 5.843333333333334\n",
      "sepal Length standard deviation--> 0.8253012917851409\n",
      "---------------------------------------------------------------------------------------\n",
      "Sepal Width  Statictics:\n",
      "\n",
      "Minimum  Sepal width 2.0\n",
      "MAximum Sepal Width 4.4\n",
      "Range of Sepal width [2.0,4.4]\n",
      "Sepal width variance 0.18675066666666668\n",
      "sepal Width Mean  3.0540000000000003\n",
      "Sepal width Standard variation 0.4321465800705435\n",
      "--------------------------------------------\n",
      "Petal Length Statictics:\n",
      "\n",
      "Minimum Petal Length 1.0\n",
      "MAximum Petal Length 6.9\n",
      "Range of Petal Length [1.0,6.9]\n",
      "Petal Length variance 3.092424888888889\n",
      "Petal Length Mean  3.758666666666666\n",
      "Petal Length Standard variation 1.7585291834055212\n",
      "--------------------------------------------\n",
      "Petal Width Statictics:\n",
      "\n",
      "Minimum Petal Width 0.1\n",
      "MAximum Petal Width 2.5\n",
      "Range of Petal Width [0.1,2.5]\n",
      "Petal Width variance 0.5785315555555555\n",
      "Petal Width Mean  1.1986666666666668\n",
      "Petal Width Standard variation 0.7606126185881716\n"
     ]
    }
   ],
   "source": [
    "print(\"Sepal Length Statistics :\\n\")\n",
    "print(\"minimum sepal length-->\",min(df['SepalLengthCm']))\n",
    "print(\"Maximum sepal length-->\",max(df['SepalLengthCm']))\n",
    "print(\"Range of sepal length -->[%s,%s]\" %(min(df['SepalLengthCm']),max(df['SepalLengthCm'])))\n",
    "print(\"sepal Length variance-->\",np.var(df[\"SepalLengthCm\"]))\n",
    "print(\"sepal Length Mean-->\",np.mean(df[\"SepalLengthCm\"]))\n",
    "print(\"sepal Length standard deviation-->\",np.std(df[\"SepalLengthCm\"]))\n",
    "print(\"---------------------------------------------------------------------------------------\")\n",
    "\n",
    "print(\"Sepal Width  Statictics:\\n\")\n",
    "print(\"Minimum  Sepal width\",min(df[\"SepalWidthCm\"]))\n",
    "print(\"MAximum Sepal Width\",max(df[\"SepalWidthCm\"]))\n",
    "print(\"Range of Sepal width [%s,%s]\"%( min(df[\"SepalWidthCm\"]),max(df[\"SepalWidthCm\"]) ))\n",
    "print(\"Sepal width variance\",np.var(df[\"SepalWidthCm\"]))\n",
    "print(\"sepal Width Mean \",np.mean(df[\"SepalWidthCm\"]))\n",
    "\n",
    "print(\"Sepal width Standard variation\",np.std(df[\"SepalWidthCm\"]))\n",
    "\n",
    "print(\"--------------------------------------------\")\n",
    "\n",
    "print(\"Petal Length Statictics:\\n\")\n",
    "print(\"Minimum Petal Length\",min(df[\"PetalLengthCm\"]))\n",
    "print(\"MAximum Petal Length\",max(df[\"PetalLengthCm\"]))\n",
    "print(\"Range of Petal Length [%s,%s]\"%( min(df[\"PetalLengthCm\"]),max(df[\"PetalLengthCm\"]) ))\n",
    "print(\"Petal Length variance\",np.var(df[\"PetalLengthCm\"]))\n",
    "print(\"Petal Length Mean \",np.mean(df[\"PetalLengthCm\"]))\n",
    "print(\"Petal Length Standard variation\",np.std(df[\"PetalLengthCm\"]))\n",
    "\n",
    "print(\"--------------------------------------------\")\n",
    "\n",
    "print(\"Petal Width Statictics:\\n\")\n",
    "print(\"Minimum Petal Width\",min(df[\"PetalWidthCm\"]))\n",
    "print(\"MAximum Petal Width\",max(df[\"PetalWidthCm\"]))\n",
    "print(\"Range of Petal Width [%s,%s]\"%( min(df[\"PetalWidthCm\"]),max(df[\"PetalWidthCm\"]) ))\n",
    "print(\"Petal Width variance\",np.var(df[\"PetalWidthCm\"]))\n",
    "print(\"Petal Width Mean \",np.mean(df[\"PetalWidthCm\"]))\n",
    "print(\"Petal Width Standard variation\",np.std(df[\"PetalWidthCm\"]))\n",
    "\n"
   ]
  },
  {
   "cell_type": "code",
   "execution_count": 49,
   "metadata": {},
   "outputs": [
    {
     "name": "stdout",
     "output_type": "stream",
     "text": [
      "\n",
      "\n",
      "Percentiles :\n",
      "\n",
      "       SepalLengthCm  SepalWidthCm  PetalLengthCm  PetalWidthCm\n",
      "count     150.000000    150.000000     150.000000    150.000000\n",
      "mean        5.843333      3.054000       3.758667      1.198667\n",
      "std         0.828066      0.433594       1.764420      0.763161\n",
      "min         4.300000      2.000000       1.000000      0.100000\n",
      "25%         5.100000      2.800000       1.600000      0.300000\n",
      "50%         5.800000      3.000000       4.350000      1.300000\n",
      "75%         6.400000      3.300000       5.100000      1.800000\n",
      "max         7.900000      4.400000       6.900000      2.500000\n"
     ]
    }
   ],
   "source": [
    "print(\"\\n\\nPercentiles :\\n\")\n",
    "print(df[df.columns[1:]].describe())"
   ]
  },
  {
   "cell_type": "code",
   "execution_count": 72,
   "metadata": {},
   "outputs": [
    {
     "data": {
      "image/png": "[encoded data removed]",
      "text/plain": [
       "<Figure size 432x288 with 1 Axes>"
      ]
     },
     "metadata": {
      "needs_background": "light"
     },
     "output_type": "display_data"
    }
   ],
   "source": [
    "pylab.suptitle(\"Boxplot for eachfeature\", fontsize=\"xx-large\")\n",
    "\n",
    "sns.boxplot(x=\"Species\",y=\"PetalLengthCm\",data=df)\n",
    "plt.show()"
   ]
  },
  {
   "cell_type": "code",
   "execution_count": 56,
   "metadata": {},
   "outputs": [
    {
     "data": {
      "image/png": "[encoded data removed]",
      "text/plain": [
       "<Figure size 432x288 with 1 Axes>"
      ]
     },
     "metadata": {
      "needs_background": "light"
     },
     "output_type": "display_data"
    }
   ],
   "source": [
    "sns.boxplot(x=\"Species\",y=\"PetalWidthCm\",data=df)\n",
    "plt.show()"
   ]
  },
  {
   "cell_type": "code",
   "execution_count": 58,
   "metadata": {},
   "outputs": [
    {
     "data": {
      "image/png": "[encoded data removed]",
      "text/plain": [
       "<Figure size 432x288 with 1 Axes>"
      ]
     },
     "metadata": {
      "needs_background": "light"
     },
     "output_type": "display_data"
    }
   ],
   "source": [
    "sns.boxplot(x=\"Species\",y=\"SepalLengthCm\",data=df)\n",
    "plt.show()"
   ]
  },
  {
   "cell_type": "code",
   "execution_count": 59,
   "metadata": {},
   "outputs": [
    {
     "data": {
      "image/png": "[encoded data removed]",
      "text/plain": [
       "<Figure size 432x288 with 1 Axes>"
      ]
     },
     "metadata": {
      "needs_background": "light"
     },
     "output_type": "display_data"
    }
   ],
   "source": [
    "sns.boxplot(x=\"Species\",y=\"SepalWidthCm\",data=df)\n",
    "plt.show()"
   ]
  },
  {
   "cell_type": "code",
   "execution_count": 66,
   "metadata": {},
   "outputs": [
    {
     "data": {
      "text/plain": [
       "<matplotlib.axes._subplots.AxesSubplot at 0x7f35775f7be0>"
      ]
     },
     "execution_count": 66,
     "metadata": {},
     "output_type": "execute_result"
    },
    {
     "data": {
      "image/png": "[encoded data removed]",
      "text/plain": [
       "<Figure size 864x648 with 1 Axes>"
      ]
     },
     "metadata": {
      "needs_background": "light"
     },
     "output_type": "display_data"
    }
   ],
   "source": [
    "#setting bigger dimensions for combined boxplot\n",
    "dimensions = (12, 9)\n",
    "\n",
    "ax_val = plt.subplots(figsize=dimensions)\n",
    "dd=pd.melt(df,id_vars=['Species'],value_vars=['SepalLengthCm','SepalWidthCm','PetalLengthCm','PetalWidthCm'],var_name='iris')\n",
    "sns.boxplot(x='Species',y='value',data=dd,hue='iris')\n"
   ]
  },
  {
   "cell_type": "code",
   "execution_count": 74,
   "metadata": {},
   "outputs": [
    {
     "data": {
      "text/plain": [
       "array([[<matplotlib.axes._subplots.AxesSubplot object at 0x7f357702c6d8>,\n",
       "        <matplotlib.axes._subplots.AxesSubplot object at 0x7f3576e79400>],\n",
       "       [<matplotlib.axes._subplots.AxesSubplot object at 0x7f3576e8f940>,\n",
       "        <matplotlib.axes._subplots.AxesSubplot object at 0x7f3576ea6eb8>]],\n",
       "      dtype=object)"
      ]
     },
     "execution_count": 74,
     "metadata": {},
     "output_type": "execute_result"
    },
    {
     "data": {
      "image/png": "[encoded data removed]",
      "text/plain": [
       "<Figure size 864x864 with 4 Axes>"
      ]
     },
     "metadata": {
      "needs_background": "light"
     },
     "output_type": "display_data"
    }
   ],
   "source": [
    "#histograms for each feature\n",
    "\n",
    "df.hist(column=[\"SepalLengthCm\", \"SepalWidthCm\", \"PetalLengthCm\", \"PetalWidthCm\", \"Species\"],figsize=(12,12))\n",
    "# pylab.suptitle(\"Histogram for each feature\", fontsize=\"xx-large\")"
   ]
  },
  {
   "cell_type": "code",
   "execution_count": null,
   "metadata": {},
   "outputs": [],
   "source": []
  }
 ],
 "metadata": {
  "kernelspec": {
   "display_name": "Python 3",
   "language": "python",
   "name": "python3"
  },
  "language_info": {
   "codemirror_mode": {
    "name": "ipython",
    "version": 3
   },
   "file_extension": ".py",
   "mimetype": "text/x-python",
   "name": "python",
   "nbconvert_exporter": "python",
   "pygments_lexer": "ipython3",
   "version": "3.5.2"
  }
 },
 "nbformat": 4,
 "nbformat_minor": 2
}
